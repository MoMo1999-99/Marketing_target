{
 "cells": [
  {
   "cell_type": "markdown",
   "metadata": {
    "tags": []
   },
   "source": [
    "### Import libraries"
   ]
  },
  {
   "cell_type": "code",
   "execution_count": 303,
   "metadata": {
    "execution": {
     "iopub.execute_input": "2023-03-14T09:23:58.836673Z",
     "iopub.status.busy": "2023-03-14T09:23:58.836389Z",
     "iopub.status.idle": "2023-03-14T09:23:58.845482Z",
     "shell.execute_reply": "2023-03-14T09:23:58.844381Z",
     "shell.execute_reply.started": "2023-03-14T09:23:58.836640Z"
    }
   },
   "outputs": [],
   "source": [
    "import pandas as pd\n",
    "import numpy as np\n",
    "from matplotlib import pyplot as plt\n",
    "import seaborn as sns\n",
    "from sklearn.compose import ColumnTransformer\n",
    "from sklearn.preprocessing import OneHotEncoder , RobustScaler\n",
    "from category_encoders.binary import BinaryEncoder\n",
    "from sklearn.model_selection import train_test_split\n",
    "from sklearn.model_selection import PredefinedSplit\n",
    "from imblearn.pipeline import Pipeline as imbPipeline\n",
    "from imblearn.over_sampling import SMOTE\n",
    "from sklearn.pipeline import make_pipeline, Pipeline\n",
    "from imblearn.pipeline import Pipeline as imbPipeline\n",
    "from sklearn.linear_model import LogisticRegression\n",
    "from sklearn.model_selection import cross_validate\n",
    "from sklearn.linear_model import LogisticRegression\n",
    "from sklearn.neighbors import KNeighborsClassifier\n",
    "from sklearn.tree import DecisionTreeClassifier\n",
    "from sklearn.ensemble import RandomForestClassifier\n",
    "from sklearn.svm import SVC\n",
    "from xgboost import XGBClassifier\n",
    "\n",
    "sns.set_palette(sns.color_palette(\"viridis\"))"
   ]
  },
  {
   "cell_type": "markdown",
   "metadata": {
    "tags": []
   },
   "source": [
    "### Loading data\n",
    "\n",
    "#### We are not going to use test.csv data, because it consists of train.csv data, and this can lead to data leak"
   ]
  },
  {
   "cell_type": "code",
   "execution_count": 304,
   "metadata": {
    "execution": {
     "iopub.execute_input": "2023-03-14T09:23:58.903328Z",
     "iopub.status.busy": "2023-03-14T09:23:58.902877Z",
     "iopub.status.idle": "2023-03-14T09:23:59.003169Z",
     "shell.execute_reply": "2023-03-14T09:23:59.002374Z",
     "shell.execute_reply.started": "2023-03-14T09:23:58.903293Z"
    }
   },
   "outputs": [
    {
     "name": "stdout",
     "output_type": "stream",
     "text": [
      "Dataset shape - (45211, 17)\n"
     ]
    },
    {
     "data": {
      "text/html": [
       "<div>\n",
       "<style scoped>\n",
       "    .dataframe tbody tr th:only-of-type {\n",
       "        vertical-align: middle;\n",
       "    }\n",
       "\n",
       "    .dataframe tbody tr th {\n",
       "        vertical-align: top;\n",
       "    }\n",
       "\n",
       "    .dataframe thead th {\n",
       "        text-align: right;\n",
       "    }\n",
       "</style>\n",
       "<table border=\"1\" class=\"dataframe\">\n",
       "  <thead>\n",
       "    <tr style=\"text-align: right;\">\n",
       "      <th></th>\n",
       "      <th>age</th>\n",
       "      <th>job</th>\n",
       "      <th>marital</th>\n",
       "      <th>education</th>\n",
       "      <th>default</th>\n",
       "      <th>balance</th>\n",
       "      <th>housing</th>\n",
       "      <th>loan</th>\n",
       "      <th>contact</th>\n",
       "      <th>day</th>\n",
       "      <th>month</th>\n",
       "      <th>duration</th>\n",
       "      <th>campaign</th>\n",
       "      <th>pdays</th>\n",
       "      <th>previous</th>\n",
       "      <th>poutcome</th>\n",
       "      <th>y</th>\n",
       "    </tr>\n",
       "  </thead>\n",
       "  <tbody>\n",
       "    <tr>\n",
       "      <th>0</th>\n",
       "      <td>58</td>\n",
       "      <td>management</td>\n",
       "      <td>married</td>\n",
       "      <td>tertiary</td>\n",
       "      <td>no</td>\n",
       "      <td>2143</td>\n",
       "      <td>yes</td>\n",
       "      <td>no</td>\n",
       "      <td>unknown</td>\n",
       "      <td>5</td>\n",
       "      <td>may</td>\n",
       "      <td>261</td>\n",
       "      <td>1</td>\n",
       "      <td>-1</td>\n",
       "      <td>0</td>\n",
       "      <td>unknown</td>\n",
       "      <td>no</td>\n",
       "    </tr>\n",
       "    <tr>\n",
       "      <th>1</th>\n",
       "      <td>44</td>\n",
       "      <td>technician</td>\n",
       "      <td>single</td>\n",
       "      <td>secondary</td>\n",
       "      <td>no</td>\n",
       "      <td>29</td>\n",
       "      <td>yes</td>\n",
       "      <td>no</td>\n",
       "      <td>unknown</td>\n",
       "      <td>5</td>\n",
       "      <td>may</td>\n",
       "      <td>151</td>\n",
       "      <td>1</td>\n",
       "      <td>-1</td>\n",
       "      <td>0</td>\n",
       "      <td>unknown</td>\n",
       "      <td>no</td>\n",
       "    </tr>\n",
       "    <tr>\n",
       "      <th>2</th>\n",
       "      <td>33</td>\n",
       "      <td>entrepreneur</td>\n",
       "      <td>married</td>\n",
       "      <td>secondary</td>\n",
       "      <td>no</td>\n",
       "      <td>2</td>\n",
       "      <td>yes</td>\n",
       "      <td>yes</td>\n",
       "      <td>unknown</td>\n",
       "      <td>5</td>\n",
       "      <td>may</td>\n",
       "      <td>76</td>\n",
       "      <td>1</td>\n",
       "      <td>-1</td>\n",
       "      <td>0</td>\n",
       "      <td>unknown</td>\n",
       "      <td>no</td>\n",
       "    </tr>\n",
       "    <tr>\n",
       "      <th>3</th>\n",
       "      <td>47</td>\n",
       "      <td>blue-collar</td>\n",
       "      <td>married</td>\n",
       "      <td>unknown</td>\n",
       "      <td>no</td>\n",
       "      <td>1506</td>\n",
       "      <td>yes</td>\n",
       "      <td>no</td>\n",
       "      <td>unknown</td>\n",
       "      <td>5</td>\n",
       "      <td>may</td>\n",
       "      <td>92</td>\n",
       "      <td>1</td>\n",
       "      <td>-1</td>\n",
       "      <td>0</td>\n",
       "      <td>unknown</td>\n",
       "      <td>no</td>\n",
       "    </tr>\n",
       "    <tr>\n",
       "      <th>4</th>\n",
       "      <td>33</td>\n",
       "      <td>unknown</td>\n",
       "      <td>single</td>\n",
       "      <td>unknown</td>\n",
       "      <td>no</td>\n",
       "      <td>1</td>\n",
       "      <td>no</td>\n",
       "      <td>no</td>\n",
       "      <td>unknown</td>\n",
       "      <td>5</td>\n",
       "      <td>may</td>\n",
       "      <td>198</td>\n",
       "      <td>1</td>\n",
       "      <td>-1</td>\n",
       "      <td>0</td>\n",
       "      <td>unknown</td>\n",
       "      <td>no</td>\n",
       "    </tr>\n",
       "  </tbody>\n",
       "</table>\n",
       "</div>"
      ],
      "text/plain": [
       "   age           job  marital  education default  balance housing loan  \\\n",
       "0   58    management  married   tertiary      no     2143     yes   no   \n",
       "1   44    technician   single  secondary      no       29     yes   no   \n",
       "2   33  entrepreneur  married  secondary      no        2     yes  yes   \n",
       "3   47   blue-collar  married    unknown      no     1506     yes   no   \n",
       "4   33       unknown   single    unknown      no        1      no   no   \n",
       "\n",
       "   contact  day month  duration  campaign  pdays  previous poutcome   y  \n",
       "0  unknown    5   may       261         1     -1         0  unknown  no  \n",
       "1  unknown    5   may       151         1     -1         0  unknown  no  \n",
       "2  unknown    5   may        76         1     -1         0  unknown  no  \n",
       "3  unknown    5   may        92         1     -1         0  unknown  no  \n",
       "4  unknown    5   may       198         1     -1         0  unknown  no  "
      ]
     },
     "execution_count": 304,
     "metadata": {},
     "output_type": "execute_result"
    }
   ],
   "source": [
    "train_df = pd.read_csv('/kaggle/input/banking-dataset-marketing-targets/train.csv', sep=';')\n",
    "print(f\"Dataset shape - {train_df.shape}\")\n",
    "train_df.head()"
   ]
  },
  {
   "cell_type": "code",
   "execution_count": 305,
   "metadata": {
    "execution": {
     "iopub.execute_input": "2023-03-14T09:23:59.005415Z",
     "iopub.status.busy": "2023-03-14T09:23:59.005073Z",
     "iopub.status.idle": "2023-03-14T09:23:59.037108Z",
     "shell.execute_reply": "2023-03-14T09:23:59.036228Z",
     "shell.execute_reply.started": "2023-03-14T09:23:59.005370Z"
    }
   },
   "outputs": [
    {
     "name": "stdout",
     "output_type": "stream",
     "text": [
      "Dataset shape - (4521, 17)\n"
     ]
    },
    {
     "data": {
      "text/html": [
       "<div>\n",
       "<style scoped>\n",
       "    .dataframe tbody tr th:only-of-type {\n",
       "        vertical-align: middle;\n",
       "    }\n",
       "\n",
       "    .dataframe tbody tr th {\n",
       "        vertical-align: top;\n",
       "    }\n",
       "\n",
       "    .dataframe thead th {\n",
       "        text-align: right;\n",
       "    }\n",
       "</style>\n",
       "<table border=\"1\" class=\"dataframe\">\n",
       "  <thead>\n",
       "    <tr style=\"text-align: right;\">\n",
       "      <th></th>\n",
       "      <th>age</th>\n",
       "      <th>job</th>\n",
       "      <th>marital</th>\n",
       "      <th>education</th>\n",
       "      <th>default</th>\n",
       "      <th>balance</th>\n",
       "      <th>housing</th>\n",
       "      <th>loan</th>\n",
       "      <th>contact</th>\n",
       "      <th>day</th>\n",
       "      <th>month</th>\n",
       "      <th>duration</th>\n",
       "      <th>campaign</th>\n",
       "      <th>pdays</th>\n",
       "      <th>previous</th>\n",
       "      <th>poutcome</th>\n",
       "      <th>target</th>\n",
       "    </tr>\n",
       "  </thead>\n",
       "  <tbody>\n",
       "    <tr>\n",
       "      <th>0</th>\n",
       "      <td>30</td>\n",
       "      <td>unemployed</td>\n",
       "      <td>married</td>\n",
       "      <td>primary</td>\n",
       "      <td>no</td>\n",
       "      <td>1787</td>\n",
       "      <td>no</td>\n",
       "      <td>no</td>\n",
       "      <td>cellular</td>\n",
       "      <td>19</td>\n",
       "      <td>oct</td>\n",
       "      <td>79</td>\n",
       "      <td>1</td>\n",
       "      <td>-1</td>\n",
       "      <td>0</td>\n",
       "      <td>unknown</td>\n",
       "      <td>no</td>\n",
       "    </tr>\n",
       "    <tr>\n",
       "      <th>1</th>\n",
       "      <td>33</td>\n",
       "      <td>services</td>\n",
       "      <td>married</td>\n",
       "      <td>secondary</td>\n",
       "      <td>no</td>\n",
       "      <td>4789</td>\n",
       "      <td>yes</td>\n",
       "      <td>yes</td>\n",
       "      <td>cellular</td>\n",
       "      <td>11</td>\n",
       "      <td>may</td>\n",
       "      <td>220</td>\n",
       "      <td>1</td>\n",
       "      <td>339</td>\n",
       "      <td>4</td>\n",
       "      <td>failure</td>\n",
       "      <td>no</td>\n",
       "    </tr>\n",
       "    <tr>\n",
       "      <th>2</th>\n",
       "      <td>35</td>\n",
       "      <td>management</td>\n",
       "      <td>single</td>\n",
       "      <td>tertiary</td>\n",
       "      <td>no</td>\n",
       "      <td>1350</td>\n",
       "      <td>yes</td>\n",
       "      <td>no</td>\n",
       "      <td>cellular</td>\n",
       "      <td>16</td>\n",
       "      <td>apr</td>\n",
       "      <td>185</td>\n",
       "      <td>1</td>\n",
       "      <td>330</td>\n",
       "      <td>1</td>\n",
       "      <td>failure</td>\n",
       "      <td>no</td>\n",
       "    </tr>\n",
       "    <tr>\n",
       "      <th>3</th>\n",
       "      <td>30</td>\n",
       "      <td>management</td>\n",
       "      <td>married</td>\n",
       "      <td>tertiary</td>\n",
       "      <td>no</td>\n",
       "      <td>1476</td>\n",
       "      <td>yes</td>\n",
       "      <td>yes</td>\n",
       "      <td>unknown</td>\n",
       "      <td>3</td>\n",
       "      <td>jun</td>\n",
       "      <td>199</td>\n",
       "      <td>4</td>\n",
       "      <td>-1</td>\n",
       "      <td>0</td>\n",
       "      <td>unknown</td>\n",
       "      <td>no</td>\n",
       "    </tr>\n",
       "    <tr>\n",
       "      <th>4</th>\n",
       "      <td>59</td>\n",
       "      <td>blue-collar</td>\n",
       "      <td>married</td>\n",
       "      <td>secondary</td>\n",
       "      <td>no</td>\n",
       "      <td>0</td>\n",
       "      <td>yes</td>\n",
       "      <td>no</td>\n",
       "      <td>unknown</td>\n",
       "      <td>5</td>\n",
       "      <td>may</td>\n",
       "      <td>226</td>\n",
       "      <td>1</td>\n",
       "      <td>-1</td>\n",
       "      <td>0</td>\n",
       "      <td>unknown</td>\n",
       "      <td>no</td>\n",
       "    </tr>\n",
       "  </tbody>\n",
       "</table>\n",
       "</div>"
      ],
      "text/plain": [
       "   age          job  marital  education default  balance housing loan  \\\n",
       "0   30   unemployed  married    primary      no     1787      no   no   \n",
       "1   33     services  married  secondary      no     4789     yes  yes   \n",
       "2   35   management   single   tertiary      no     1350     yes   no   \n",
       "3   30   management  married   tertiary      no     1476     yes  yes   \n",
       "4   59  blue-collar  married  secondary      no        0     yes   no   \n",
       "\n",
       "    contact  day month  duration  campaign  pdays  previous poutcome target  \n",
       "0  cellular   19   oct        79         1     -1         0  unknown     no  \n",
       "1  cellular   11   may       220         1    339         4  failure     no  \n",
       "2  cellular   16   apr       185         1    330         1  failure     no  \n",
       "3   unknown    3   jun       199         4     -1         0  unknown     no  \n",
       "4   unknown    5   may       226         1     -1         0  unknown     no  "
      ]
     },
     "execution_count": 305,
     "metadata": {},
     "output_type": "execute_result"
    }
   ],
   "source": [
    "test_df = pd.read_csv('/kaggle/input/banking-dataset-marketing-targets/test.csv', sep=';')\n",
    "print(f\"Dataset shape - {test_df.shape}\")\n",
    "test_df = test_df.rename(columns={'y': 'target'})\n",
    "test_df.head()"
   ]
  },
  {
   "cell_type": "code",
   "execution_count": 306,
   "metadata": {
    "execution": {
     "iopub.execute_input": "2023-03-14T09:23:59.069553Z",
     "iopub.status.busy": "2023-03-14T09:23:59.068717Z",
     "iopub.status.idle": "2023-03-14T09:23:59.098917Z",
     "shell.execute_reply": "2023-03-14T09:23:59.097789Z",
     "shell.execute_reply.started": "2023-03-14T09:23:59.069507Z"
    }
   },
   "outputs": [
    {
     "data": {
      "text/html": [
       "<div>\n",
       "<style scoped>\n",
       "    .dataframe tbody tr th:only-of-type {\n",
       "        vertical-align: middle;\n",
       "    }\n",
       "\n",
       "    .dataframe tbody tr th {\n",
       "        vertical-align: top;\n",
       "    }\n",
       "\n",
       "    .dataframe thead th {\n",
       "        text-align: right;\n",
       "    }\n",
       "</style>\n",
       "<table border=\"1\" class=\"dataframe\">\n",
       "  <thead>\n",
       "    <tr style=\"text-align: right;\">\n",
       "      <th></th>\n",
       "      <th>age</th>\n",
       "      <th>job</th>\n",
       "      <th>marital</th>\n",
       "      <th>education</th>\n",
       "      <th>default</th>\n",
       "      <th>balance</th>\n",
       "      <th>housing</th>\n",
       "      <th>loan</th>\n",
       "      <th>contact</th>\n",
       "      <th>day</th>\n",
       "      <th>month</th>\n",
       "      <th>duration</th>\n",
       "      <th>campaign</th>\n",
       "      <th>pdays</th>\n",
       "      <th>previous</th>\n",
       "      <th>poutcome</th>\n",
       "      <th>target</th>\n",
       "    </tr>\n",
       "  </thead>\n",
       "  <tbody>\n",
       "    <tr>\n",
       "      <th>0</th>\n",
       "      <td>58</td>\n",
       "      <td>management</td>\n",
       "      <td>married</td>\n",
       "      <td>tertiary</td>\n",
       "      <td>no</td>\n",
       "      <td>2143</td>\n",
       "      <td>yes</td>\n",
       "      <td>no</td>\n",
       "      <td>unknown</td>\n",
       "      <td>5</td>\n",
       "      <td>may</td>\n",
       "      <td>261</td>\n",
       "      <td>1</td>\n",
       "      <td>-1</td>\n",
       "      <td>0</td>\n",
       "      <td>unknown</td>\n",
       "      <td>no</td>\n",
       "    </tr>\n",
       "    <tr>\n",
       "      <th>1</th>\n",
       "      <td>44</td>\n",
       "      <td>technician</td>\n",
       "      <td>single</td>\n",
       "      <td>secondary</td>\n",
       "      <td>no</td>\n",
       "      <td>29</td>\n",
       "      <td>yes</td>\n",
       "      <td>no</td>\n",
       "      <td>unknown</td>\n",
       "      <td>5</td>\n",
       "      <td>may</td>\n",
       "      <td>151</td>\n",
       "      <td>1</td>\n",
       "      <td>-1</td>\n",
       "      <td>0</td>\n",
       "      <td>unknown</td>\n",
       "      <td>no</td>\n",
       "    </tr>\n",
       "    <tr>\n",
       "      <th>2</th>\n",
       "      <td>33</td>\n",
       "      <td>entrepreneur</td>\n",
       "      <td>married</td>\n",
       "      <td>secondary</td>\n",
       "      <td>no</td>\n",
       "      <td>2</td>\n",
       "      <td>yes</td>\n",
       "      <td>yes</td>\n",
       "      <td>unknown</td>\n",
       "      <td>5</td>\n",
       "      <td>may</td>\n",
       "      <td>76</td>\n",
       "      <td>1</td>\n",
       "      <td>-1</td>\n",
       "      <td>0</td>\n",
       "      <td>unknown</td>\n",
       "      <td>no</td>\n",
       "    </tr>\n",
       "    <tr>\n",
       "      <th>3</th>\n",
       "      <td>47</td>\n",
       "      <td>blue-collar</td>\n",
       "      <td>married</td>\n",
       "      <td>unknown</td>\n",
       "      <td>no</td>\n",
       "      <td>1506</td>\n",
       "      <td>yes</td>\n",
       "      <td>no</td>\n",
       "      <td>unknown</td>\n",
       "      <td>5</td>\n",
       "      <td>may</td>\n",
       "      <td>92</td>\n",
       "      <td>1</td>\n",
       "      <td>-1</td>\n",
       "      <td>0</td>\n",
       "      <td>unknown</td>\n",
       "      <td>no</td>\n",
       "    </tr>\n",
       "    <tr>\n",
       "      <th>4</th>\n",
       "      <td>33</td>\n",
       "      <td>unknown</td>\n",
       "      <td>single</td>\n",
       "      <td>unknown</td>\n",
       "      <td>no</td>\n",
       "      <td>1</td>\n",
       "      <td>no</td>\n",
       "      <td>no</td>\n",
       "      <td>unknown</td>\n",
       "      <td>5</td>\n",
       "      <td>may</td>\n",
       "      <td>198</td>\n",
       "      <td>1</td>\n",
       "      <td>-1</td>\n",
       "      <td>0</td>\n",
       "      <td>unknown</td>\n",
       "      <td>no</td>\n",
       "    </tr>\n",
       "    <tr>\n",
       "      <th>...</th>\n",
       "      <td>...</td>\n",
       "      <td>...</td>\n",
       "      <td>...</td>\n",
       "      <td>...</td>\n",
       "      <td>...</td>\n",
       "      <td>...</td>\n",
       "      <td>...</td>\n",
       "      <td>...</td>\n",
       "      <td>...</td>\n",
       "      <td>...</td>\n",
       "      <td>...</td>\n",
       "      <td>...</td>\n",
       "      <td>...</td>\n",
       "      <td>...</td>\n",
       "      <td>...</td>\n",
       "      <td>...</td>\n",
       "      <td>...</td>\n",
       "    </tr>\n",
       "    <tr>\n",
       "      <th>45206</th>\n",
       "      <td>51</td>\n",
       "      <td>technician</td>\n",
       "      <td>married</td>\n",
       "      <td>tertiary</td>\n",
       "      <td>no</td>\n",
       "      <td>825</td>\n",
       "      <td>no</td>\n",
       "      <td>no</td>\n",
       "      <td>cellular</td>\n",
       "      <td>17</td>\n",
       "      <td>nov</td>\n",
       "      <td>977</td>\n",
       "      <td>3</td>\n",
       "      <td>-1</td>\n",
       "      <td>0</td>\n",
       "      <td>unknown</td>\n",
       "      <td>yes</td>\n",
       "    </tr>\n",
       "    <tr>\n",
       "      <th>45207</th>\n",
       "      <td>71</td>\n",
       "      <td>retired</td>\n",
       "      <td>divorced</td>\n",
       "      <td>primary</td>\n",
       "      <td>no</td>\n",
       "      <td>1729</td>\n",
       "      <td>no</td>\n",
       "      <td>no</td>\n",
       "      <td>cellular</td>\n",
       "      <td>17</td>\n",
       "      <td>nov</td>\n",
       "      <td>456</td>\n",
       "      <td>2</td>\n",
       "      <td>-1</td>\n",
       "      <td>0</td>\n",
       "      <td>unknown</td>\n",
       "      <td>yes</td>\n",
       "    </tr>\n",
       "    <tr>\n",
       "      <th>45208</th>\n",
       "      <td>72</td>\n",
       "      <td>retired</td>\n",
       "      <td>married</td>\n",
       "      <td>secondary</td>\n",
       "      <td>no</td>\n",
       "      <td>5715</td>\n",
       "      <td>no</td>\n",
       "      <td>no</td>\n",
       "      <td>cellular</td>\n",
       "      <td>17</td>\n",
       "      <td>nov</td>\n",
       "      <td>1127</td>\n",
       "      <td>5</td>\n",
       "      <td>184</td>\n",
       "      <td>3</td>\n",
       "      <td>success</td>\n",
       "      <td>yes</td>\n",
       "    </tr>\n",
       "    <tr>\n",
       "      <th>45209</th>\n",
       "      <td>57</td>\n",
       "      <td>blue-collar</td>\n",
       "      <td>married</td>\n",
       "      <td>secondary</td>\n",
       "      <td>no</td>\n",
       "      <td>668</td>\n",
       "      <td>no</td>\n",
       "      <td>no</td>\n",
       "      <td>telephone</td>\n",
       "      <td>17</td>\n",
       "      <td>nov</td>\n",
       "      <td>508</td>\n",
       "      <td>4</td>\n",
       "      <td>-1</td>\n",
       "      <td>0</td>\n",
       "      <td>unknown</td>\n",
       "      <td>no</td>\n",
       "    </tr>\n",
       "    <tr>\n",
       "      <th>45210</th>\n",
       "      <td>37</td>\n",
       "      <td>entrepreneur</td>\n",
       "      <td>married</td>\n",
       "      <td>secondary</td>\n",
       "      <td>no</td>\n",
       "      <td>2971</td>\n",
       "      <td>no</td>\n",
       "      <td>no</td>\n",
       "      <td>cellular</td>\n",
       "      <td>17</td>\n",
       "      <td>nov</td>\n",
       "      <td>361</td>\n",
       "      <td>2</td>\n",
       "      <td>188</td>\n",
       "      <td>11</td>\n",
       "      <td>other</td>\n",
       "      <td>no</td>\n",
       "    </tr>\n",
       "  </tbody>\n",
       "</table>\n",
       "<p>45211 rows × 17 columns</p>\n",
       "</div>"
      ],
      "text/plain": [
       "       age           job   marital  education default  balance housing loan  \\\n",
       "0       58    management   married   tertiary      no     2143     yes   no   \n",
       "1       44    technician    single  secondary      no       29     yes   no   \n",
       "2       33  entrepreneur   married  secondary      no        2     yes  yes   \n",
       "3       47   blue-collar   married    unknown      no     1506     yes   no   \n",
       "4       33       unknown    single    unknown      no        1      no   no   \n",
       "...    ...           ...       ...        ...     ...      ...     ...  ...   \n",
       "45206   51    technician   married   tertiary      no      825      no   no   \n",
       "45207   71       retired  divorced    primary      no     1729      no   no   \n",
       "45208   72       retired   married  secondary      no     5715      no   no   \n",
       "45209   57   blue-collar   married  secondary      no      668      no   no   \n",
       "45210   37  entrepreneur   married  secondary      no     2971      no   no   \n",
       "\n",
       "         contact  day month  duration  campaign  pdays  previous poutcome  \\\n",
       "0        unknown    5   may       261         1     -1         0  unknown   \n",
       "1        unknown    5   may       151         1     -1         0  unknown   \n",
       "2        unknown    5   may        76         1     -1         0  unknown   \n",
       "3        unknown    5   may        92         1     -1         0  unknown   \n",
       "4        unknown    5   may       198         1     -1         0  unknown   \n",
       "...          ...  ...   ...       ...       ...    ...       ...      ...   \n",
       "45206   cellular   17   nov       977         3     -1         0  unknown   \n",
       "45207   cellular   17   nov       456         2     -1         0  unknown   \n",
       "45208   cellular   17   nov      1127         5    184         3  success   \n",
       "45209  telephone   17   nov       508         4     -1         0  unknown   \n",
       "45210   cellular   17   nov       361         2    188        11    other   \n",
       "\n",
       "      target  \n",
       "0         no  \n",
       "1         no  \n",
       "2         no  \n",
       "3         no  \n",
       "4         no  \n",
       "...      ...  \n",
       "45206    yes  \n",
       "45207    yes  \n",
       "45208    yes  \n",
       "45209     no  \n",
       "45210     no  \n",
       "\n",
       "[45211 rows x 17 columns]"
      ]
     },
     "execution_count": 306,
     "metadata": {},
     "output_type": "execute_result"
    }
   ],
   "source": [
    "train_df = train_df.rename(columns={'y': 'target'})\n",
    "train_df"
   ]
  },
  {
   "cell_type": "code",
   "execution_count": 307,
   "metadata": {
    "execution": {
     "iopub.execute_input": "2023-03-14T09:23:59.143478Z",
     "iopub.status.busy": "2023-03-14T09:23:59.143186Z",
     "iopub.status.idle": "2023-03-14T09:23:59.164382Z",
     "shell.execute_reply": "2023-03-14T09:23:59.163488Z",
     "shell.execute_reply.started": "2023-03-14T09:23:59.143447Z"
    }
   },
   "outputs": [],
   "source": [
    "result = pd.concat([train_df, test_df])\n",
    "result.reset_index(inplace=True)"
   ]
  },
  {
   "cell_type": "markdown",
   "metadata": {},
   "source": [
    "## Prepare data for visualizing'\n",
    "\n",
    "Copy training dataframe for manipulations during EDA"
   ]
  },
  {
   "cell_type": "code",
   "execution_count": 308,
   "metadata": {
    "execution": {
     "iopub.execute_input": "2023-03-14T09:23:59.228408Z",
     "iopub.status.busy": "2023-03-14T09:23:59.228114Z",
     "iopub.status.idle": "2023-03-14T09:23:59.268173Z",
     "shell.execute_reply": "2023-03-14T09:23:59.267494Z",
     "shell.execute_reply.started": "2023-03-14T09:23:59.228377Z"
    }
   },
   "outputs": [
    {
     "data": {
      "text/html": [
       "<div>\n",
       "<style scoped>\n",
       "    .dataframe tbody tr th:only-of-type {\n",
       "        vertical-align: middle;\n",
       "    }\n",
       "\n",
       "    .dataframe tbody tr th {\n",
       "        vertical-align: top;\n",
       "    }\n",
       "\n",
       "    .dataframe thead th {\n",
       "        text-align: right;\n",
       "    }\n",
       "</style>\n",
       "<table border=\"1\" class=\"dataframe\">\n",
       "  <thead>\n",
       "    <tr style=\"text-align: right;\">\n",
       "      <th></th>\n",
       "      <th>index</th>\n",
       "      <th>age</th>\n",
       "      <th>job</th>\n",
       "      <th>marital</th>\n",
       "      <th>education</th>\n",
       "      <th>default</th>\n",
       "      <th>balance</th>\n",
       "      <th>housing</th>\n",
       "      <th>loan</th>\n",
       "      <th>contact</th>\n",
       "      <th>day</th>\n",
       "      <th>month</th>\n",
       "      <th>duration</th>\n",
       "      <th>campaign</th>\n",
       "      <th>pdays</th>\n",
       "      <th>previous</th>\n",
       "      <th>poutcome</th>\n",
       "      <th>target</th>\n",
       "    </tr>\n",
       "  </thead>\n",
       "  <tbody>\n",
       "    <tr>\n",
       "      <th>0</th>\n",
       "      <td>0</td>\n",
       "      <td>58</td>\n",
       "      <td>management</td>\n",
       "      <td>married</td>\n",
       "      <td>tertiary</td>\n",
       "      <td>no</td>\n",
       "      <td>2143</td>\n",
       "      <td>yes</td>\n",
       "      <td>no</td>\n",
       "      <td>unknown</td>\n",
       "      <td>5</td>\n",
       "      <td>may</td>\n",
       "      <td>261</td>\n",
       "      <td>1</td>\n",
       "      <td>-1</td>\n",
       "      <td>0</td>\n",
       "      <td>unknown</td>\n",
       "      <td>no</td>\n",
       "    </tr>\n",
       "    <tr>\n",
       "      <th>1</th>\n",
       "      <td>1</td>\n",
       "      <td>44</td>\n",
       "      <td>technician</td>\n",
       "      <td>single</td>\n",
       "      <td>secondary</td>\n",
       "      <td>no</td>\n",
       "      <td>29</td>\n",
       "      <td>yes</td>\n",
       "      <td>no</td>\n",
       "      <td>unknown</td>\n",
       "      <td>5</td>\n",
       "      <td>may</td>\n",
       "      <td>151</td>\n",
       "      <td>1</td>\n",
       "      <td>-1</td>\n",
       "      <td>0</td>\n",
       "      <td>unknown</td>\n",
       "      <td>no</td>\n",
       "    </tr>\n",
       "    <tr>\n",
       "      <th>2</th>\n",
       "      <td>2</td>\n",
       "      <td>33</td>\n",
       "      <td>entrepreneur</td>\n",
       "      <td>married</td>\n",
       "      <td>secondary</td>\n",
       "      <td>no</td>\n",
       "      <td>2</td>\n",
       "      <td>yes</td>\n",
       "      <td>yes</td>\n",
       "      <td>unknown</td>\n",
       "      <td>5</td>\n",
       "      <td>may</td>\n",
       "      <td>76</td>\n",
       "      <td>1</td>\n",
       "      <td>-1</td>\n",
       "      <td>0</td>\n",
       "      <td>unknown</td>\n",
       "      <td>no</td>\n",
       "    </tr>\n",
       "    <tr>\n",
       "      <th>3</th>\n",
       "      <td>3</td>\n",
       "      <td>47</td>\n",
       "      <td>blue-collar</td>\n",
       "      <td>married</td>\n",
       "      <td>unknown</td>\n",
       "      <td>no</td>\n",
       "      <td>1506</td>\n",
       "      <td>yes</td>\n",
       "      <td>no</td>\n",
       "      <td>unknown</td>\n",
       "      <td>5</td>\n",
       "      <td>may</td>\n",
       "      <td>92</td>\n",
       "      <td>1</td>\n",
       "      <td>-1</td>\n",
       "      <td>0</td>\n",
       "      <td>unknown</td>\n",
       "      <td>no</td>\n",
       "    </tr>\n",
       "    <tr>\n",
       "      <th>4</th>\n",
       "      <td>4</td>\n",
       "      <td>33</td>\n",
       "      <td>unknown</td>\n",
       "      <td>single</td>\n",
       "      <td>unknown</td>\n",
       "      <td>no</td>\n",
       "      <td>1</td>\n",
       "      <td>no</td>\n",
       "      <td>no</td>\n",
       "      <td>unknown</td>\n",
       "      <td>5</td>\n",
       "      <td>may</td>\n",
       "      <td>198</td>\n",
       "      <td>1</td>\n",
       "      <td>-1</td>\n",
       "      <td>0</td>\n",
       "      <td>unknown</td>\n",
       "      <td>no</td>\n",
       "    </tr>\n",
       "    <tr>\n",
       "      <th>...</th>\n",
       "      <td>...</td>\n",
       "      <td>...</td>\n",
       "      <td>...</td>\n",
       "      <td>...</td>\n",
       "      <td>...</td>\n",
       "      <td>...</td>\n",
       "      <td>...</td>\n",
       "      <td>...</td>\n",
       "      <td>...</td>\n",
       "      <td>...</td>\n",
       "      <td>...</td>\n",
       "      <td>...</td>\n",
       "      <td>...</td>\n",
       "      <td>...</td>\n",
       "      <td>...</td>\n",
       "      <td>...</td>\n",
       "      <td>...</td>\n",
       "      <td>...</td>\n",
       "    </tr>\n",
       "    <tr>\n",
       "      <th>49727</th>\n",
       "      <td>4516</td>\n",
       "      <td>33</td>\n",
       "      <td>services</td>\n",
       "      <td>married</td>\n",
       "      <td>secondary</td>\n",
       "      <td>no</td>\n",
       "      <td>-333</td>\n",
       "      <td>yes</td>\n",
       "      <td>no</td>\n",
       "      <td>cellular</td>\n",
       "      <td>30</td>\n",
       "      <td>jul</td>\n",
       "      <td>329</td>\n",
       "      <td>5</td>\n",
       "      <td>-1</td>\n",
       "      <td>0</td>\n",
       "      <td>unknown</td>\n",
       "      <td>no</td>\n",
       "    </tr>\n",
       "    <tr>\n",
       "      <th>49728</th>\n",
       "      <td>4517</td>\n",
       "      <td>57</td>\n",
       "      <td>self-employed</td>\n",
       "      <td>married</td>\n",
       "      <td>tertiary</td>\n",
       "      <td>yes</td>\n",
       "      <td>-3313</td>\n",
       "      <td>yes</td>\n",
       "      <td>yes</td>\n",
       "      <td>unknown</td>\n",
       "      <td>9</td>\n",
       "      <td>may</td>\n",
       "      <td>153</td>\n",
       "      <td>1</td>\n",
       "      <td>-1</td>\n",
       "      <td>0</td>\n",
       "      <td>unknown</td>\n",
       "      <td>no</td>\n",
       "    </tr>\n",
       "    <tr>\n",
       "      <th>49729</th>\n",
       "      <td>4518</td>\n",
       "      <td>57</td>\n",
       "      <td>technician</td>\n",
       "      <td>married</td>\n",
       "      <td>secondary</td>\n",
       "      <td>no</td>\n",
       "      <td>295</td>\n",
       "      <td>no</td>\n",
       "      <td>no</td>\n",
       "      <td>cellular</td>\n",
       "      <td>19</td>\n",
       "      <td>aug</td>\n",
       "      <td>151</td>\n",
       "      <td>11</td>\n",
       "      <td>-1</td>\n",
       "      <td>0</td>\n",
       "      <td>unknown</td>\n",
       "      <td>no</td>\n",
       "    </tr>\n",
       "    <tr>\n",
       "      <th>49730</th>\n",
       "      <td>4519</td>\n",
       "      <td>28</td>\n",
       "      <td>blue-collar</td>\n",
       "      <td>married</td>\n",
       "      <td>secondary</td>\n",
       "      <td>no</td>\n",
       "      <td>1137</td>\n",
       "      <td>no</td>\n",
       "      <td>no</td>\n",
       "      <td>cellular</td>\n",
       "      <td>6</td>\n",
       "      <td>feb</td>\n",
       "      <td>129</td>\n",
       "      <td>4</td>\n",
       "      <td>211</td>\n",
       "      <td>3</td>\n",
       "      <td>other</td>\n",
       "      <td>no</td>\n",
       "    </tr>\n",
       "    <tr>\n",
       "      <th>49731</th>\n",
       "      <td>4520</td>\n",
       "      <td>44</td>\n",
       "      <td>entrepreneur</td>\n",
       "      <td>single</td>\n",
       "      <td>tertiary</td>\n",
       "      <td>no</td>\n",
       "      <td>1136</td>\n",
       "      <td>yes</td>\n",
       "      <td>yes</td>\n",
       "      <td>cellular</td>\n",
       "      <td>3</td>\n",
       "      <td>apr</td>\n",
       "      <td>345</td>\n",
       "      <td>2</td>\n",
       "      <td>249</td>\n",
       "      <td>7</td>\n",
       "      <td>other</td>\n",
       "      <td>no</td>\n",
       "    </tr>\n",
       "  </tbody>\n",
       "</table>\n",
       "<p>49732 rows × 18 columns</p>\n",
       "</div>"
      ],
      "text/plain": [
       "       index  age            job  marital  education default  balance housing  \\\n",
       "0          0   58     management  married   tertiary      no     2143     yes   \n",
       "1          1   44     technician   single  secondary      no       29     yes   \n",
       "2          2   33   entrepreneur  married  secondary      no        2     yes   \n",
       "3          3   47    blue-collar  married    unknown      no     1506     yes   \n",
       "4          4   33        unknown   single    unknown      no        1      no   \n",
       "...      ...  ...            ...      ...        ...     ...      ...     ...   \n",
       "49727   4516   33       services  married  secondary      no     -333     yes   \n",
       "49728   4517   57  self-employed  married   tertiary     yes    -3313     yes   \n",
       "49729   4518   57     technician  married  secondary      no      295      no   \n",
       "49730   4519   28    blue-collar  married  secondary      no     1137      no   \n",
       "49731   4520   44   entrepreneur   single   tertiary      no     1136     yes   \n",
       "\n",
       "      loan   contact  day month  duration  campaign  pdays  previous poutcome  \\\n",
       "0       no   unknown    5   may       261         1     -1         0  unknown   \n",
       "1       no   unknown    5   may       151         1     -1         0  unknown   \n",
       "2      yes   unknown    5   may        76         1     -1         0  unknown   \n",
       "3       no   unknown    5   may        92         1     -1         0  unknown   \n",
       "4       no   unknown    5   may       198         1     -1         0  unknown   \n",
       "...    ...       ...  ...   ...       ...       ...    ...       ...      ...   \n",
       "49727   no  cellular   30   jul       329         5     -1         0  unknown   \n",
       "49728  yes   unknown    9   may       153         1     -1         0  unknown   \n",
       "49729   no  cellular   19   aug       151        11     -1         0  unknown   \n",
       "49730   no  cellular    6   feb       129         4    211         3    other   \n",
       "49731  yes  cellular    3   apr       345         2    249         7    other   \n",
       "\n",
       "      target  \n",
       "0         no  \n",
       "1         no  \n",
       "2         no  \n",
       "3         no  \n",
       "4         no  \n",
       "...      ...  \n",
       "49727     no  \n",
       "49728     no  \n",
       "49729     no  \n",
       "49730     no  \n",
       "49731     no  \n",
       "\n",
       "[49732 rows x 18 columns]"
      ]
     },
     "execution_count": 308,
     "metadata": {},
     "output_type": "execute_result"
    }
   ],
   "source": [
    "df = result.copy()\n",
    "df"
   ]
  },
  {
   "cell_type": "code",
   "execution_count": 309,
   "metadata": {
    "execution": {
     "iopub.execute_input": "2023-03-14T09:23:59.312130Z",
     "iopub.status.busy": "2023-03-14T09:23:59.311464Z",
     "iopub.status.idle": "2023-03-14T09:23:59.350105Z",
     "shell.execute_reply": "2023-03-14T09:23:59.349071Z",
     "shell.execute_reply.started": "2023-03-14T09:23:59.312078Z"
    }
   },
   "outputs": [
    {
     "name": "stdout",
     "output_type": "stream",
     "text": [
      "<class 'pandas.core.frame.DataFrame'>\n",
      "RangeIndex: 49732 entries, 0 to 49731\n",
      "Data columns (total 18 columns):\n",
      " #   Column     Non-Null Count  Dtype \n",
      "---  ------     --------------  ----- \n",
      " 0   index      49732 non-null  int64 \n",
      " 1   age        49732 non-null  int64 \n",
      " 2   job        49732 non-null  object\n",
      " 3   marital    49732 non-null  object\n",
      " 4   education  49732 non-null  object\n",
      " 5   default    49732 non-null  object\n",
      " 6   balance    49732 non-null  int64 \n",
      " 7   housing    49732 non-null  object\n",
      " 8   loan       49732 non-null  object\n",
      " 9   contact    49732 non-null  object\n",
      " 10  day        49732 non-null  int64 \n",
      " 11  month      49732 non-null  object\n",
      " 12  duration   49732 non-null  int64 \n",
      " 13  campaign   49732 non-null  int64 \n",
      " 14  pdays      49732 non-null  int64 \n",
      " 15  previous   49732 non-null  int64 \n",
      " 16  poutcome   49732 non-null  object\n",
      " 17  target     49732 non-null  object\n",
      "dtypes: int64(8), object(10)\n",
      "memory usage: 6.8+ MB\n"
     ]
    }
   ],
   "source": [
    "df.info()"
   ]
  },
  {
   "cell_type": "code",
   "execution_count": 310,
   "metadata": {
    "execution": {
     "iopub.execute_input": "2023-03-14T09:23:59.392037Z",
     "iopub.status.busy": "2023-03-14T09:23:59.391757Z",
     "iopub.status.idle": "2023-03-14T09:23:59.424064Z",
     "shell.execute_reply": "2023-03-14T09:23:59.423124Z",
     "shell.execute_reply.started": "2023-03-14T09:23:59.392006Z"
    }
   },
   "outputs": [
    {
     "data": {
      "text/plain": [
       "index        0\n",
       "age          0\n",
       "job          0\n",
       "marital      0\n",
       "education    0\n",
       "default      0\n",
       "balance      0\n",
       "housing      0\n",
       "loan         0\n",
       "contact      0\n",
       "day          0\n",
       "month        0\n",
       "duration     0\n",
       "campaign     0\n",
       "pdays        0\n",
       "previous     0\n",
       "poutcome     0\n",
       "target       0\n",
       "dtype: int64"
      ]
     },
     "execution_count": 310,
     "metadata": {},
     "output_type": "execute_result"
    }
   ],
   "source": [
    "df.isna().sum()"
   ]
  },
  {
   "cell_type": "code",
   "execution_count": 311,
   "metadata": {
    "execution": {
     "iopub.execute_input": "2023-03-14T09:23:59.473655Z",
     "iopub.status.busy": "2023-03-14T09:23:59.473336Z",
     "iopub.status.idle": "2023-03-14T09:23:59.518466Z",
     "shell.execute_reply": "2023-03-14T09:23:59.517437Z",
     "shell.execute_reply.started": "2023-03-14T09:23:59.473615Z"
    }
   },
   "outputs": [
    {
     "data": {
      "text/html": [
       "<div>\n",
       "<style scoped>\n",
       "    .dataframe tbody tr th:only-of-type {\n",
       "        vertical-align: middle;\n",
       "    }\n",
       "\n",
       "    .dataframe tbody tr th {\n",
       "        vertical-align: top;\n",
       "    }\n",
       "\n",
       "    .dataframe thead th {\n",
       "        text-align: right;\n",
       "    }\n",
       "</style>\n",
       "<table border=\"1\" class=\"dataframe\">\n",
       "  <thead>\n",
       "    <tr style=\"text-align: right;\">\n",
       "      <th></th>\n",
       "      <th>index</th>\n",
       "      <th>age</th>\n",
       "      <th>balance</th>\n",
       "      <th>day</th>\n",
       "      <th>duration</th>\n",
       "      <th>campaign</th>\n",
       "      <th>pdays</th>\n",
       "      <th>previous</th>\n",
       "    </tr>\n",
       "  </thead>\n",
       "  <tbody>\n",
       "    <tr>\n",
       "      <th>count</th>\n",
       "      <td>49732.000000</td>\n",
       "      <td>49732.000000</td>\n",
       "      <td>49732.000000</td>\n",
       "      <td>49732.000000</td>\n",
       "      <td>49732.000000</td>\n",
       "      <td>49732.000000</td>\n",
       "      <td>49732.000000</td>\n",
       "      <td>49732.000000</td>\n",
       "    </tr>\n",
       "    <tr>\n",
       "      <th>mean</th>\n",
       "      <td>20755.491736</td>\n",
       "      <td>40.957472</td>\n",
       "      <td>1367.761562</td>\n",
       "      <td>15.816315</td>\n",
       "      <td>258.690179</td>\n",
       "      <td>2.766549</td>\n",
       "      <td>40.158630</td>\n",
       "      <td>0.576892</td>\n",
       "    </tr>\n",
       "    <tr>\n",
       "      <th>std</th>\n",
       "      <td>13755.639646</td>\n",
       "      <td>10.615008</td>\n",
       "      <td>3041.608766</td>\n",
       "      <td>8.315680</td>\n",
       "      <td>257.743149</td>\n",
       "      <td>3.099075</td>\n",
       "      <td>100.127123</td>\n",
       "      <td>2.254838</td>\n",
       "    </tr>\n",
       "    <tr>\n",
       "      <th>min</th>\n",
       "      <td>0.000000</td>\n",
       "      <td>18.000000</td>\n",
       "      <td>-8019.000000</td>\n",
       "      <td>1.000000</td>\n",
       "      <td>0.000000</td>\n",
       "      <td>1.000000</td>\n",
       "      <td>-1.000000</td>\n",
       "      <td>0.000000</td>\n",
       "    </tr>\n",
       "    <tr>\n",
       "      <th>25%</th>\n",
       "      <td>7911.750000</td>\n",
       "      <td>33.000000</td>\n",
       "      <td>72.000000</td>\n",
       "      <td>8.000000</td>\n",
       "      <td>103.000000</td>\n",
       "      <td>1.000000</td>\n",
       "      <td>-1.000000</td>\n",
       "      <td>0.000000</td>\n",
       "    </tr>\n",
       "    <tr>\n",
       "      <th>50%</th>\n",
       "      <td>20344.500000</td>\n",
       "      <td>39.000000</td>\n",
       "      <td>448.000000</td>\n",
       "      <td>16.000000</td>\n",
       "      <td>180.000000</td>\n",
       "      <td>2.000000</td>\n",
       "      <td>-1.000000</td>\n",
       "      <td>0.000000</td>\n",
       "    </tr>\n",
       "    <tr>\n",
       "      <th>75%</th>\n",
       "      <td>32777.250000</td>\n",
       "      <td>48.000000</td>\n",
       "      <td>1431.000000</td>\n",
       "      <td>21.000000</td>\n",
       "      <td>320.000000</td>\n",
       "      <td>3.000000</td>\n",
       "      <td>-1.000000</td>\n",
       "      <td>0.000000</td>\n",
       "    </tr>\n",
       "    <tr>\n",
       "      <th>max</th>\n",
       "      <td>45210.000000</td>\n",
       "      <td>95.000000</td>\n",
       "      <td>102127.000000</td>\n",
       "      <td>31.000000</td>\n",
       "      <td>4918.000000</td>\n",
       "      <td>63.000000</td>\n",
       "      <td>871.000000</td>\n",
       "      <td>275.000000</td>\n",
       "    </tr>\n",
       "  </tbody>\n",
       "</table>\n",
       "</div>"
      ],
      "text/plain": [
       "              index           age        balance           day      duration  \\\n",
       "count  49732.000000  49732.000000   49732.000000  49732.000000  49732.000000   \n",
       "mean   20755.491736     40.957472    1367.761562     15.816315    258.690179   \n",
       "std    13755.639646     10.615008    3041.608766      8.315680    257.743149   \n",
       "min        0.000000     18.000000   -8019.000000      1.000000      0.000000   \n",
       "25%     7911.750000     33.000000      72.000000      8.000000    103.000000   \n",
       "50%    20344.500000     39.000000     448.000000     16.000000    180.000000   \n",
       "75%    32777.250000     48.000000    1431.000000     21.000000    320.000000   \n",
       "max    45210.000000     95.000000  102127.000000     31.000000   4918.000000   \n",
       "\n",
       "           campaign         pdays      previous  \n",
       "count  49732.000000  49732.000000  49732.000000  \n",
       "mean       2.766549     40.158630      0.576892  \n",
       "std        3.099075    100.127123      2.254838  \n",
       "min        1.000000     -1.000000      0.000000  \n",
       "25%        1.000000     -1.000000      0.000000  \n",
       "50%        2.000000     -1.000000      0.000000  \n",
       "75%        3.000000     -1.000000      0.000000  \n",
       "max       63.000000    871.000000    275.000000  "
      ]
     },
     "execution_count": 311,
     "metadata": {},
     "output_type": "execute_result"
    }
   ],
   "source": [
    "df.describe()"
   ]
  },
  {
   "cell_type": "markdown",
   "metadata": {
    "tags": []
   },
   "source": [
    "#### Transform binary category features to int"
   ]
  },
  {
   "cell_type": "code",
   "execution_count": 312,
   "metadata": {
    "execution": {
     "iopub.execute_input": "2023-03-14T09:23:59.552094Z",
     "iopub.status.busy": "2023-03-14T09:23:59.551805Z",
     "iopub.status.idle": "2023-03-14T09:23:59.638588Z",
     "shell.execute_reply": "2023-03-14T09:23:59.637666Z",
     "shell.execute_reply.started": "2023-03-14T09:23:59.552059Z"
    }
   },
   "outputs": [
    {
     "name": "stdout",
     "output_type": "stream",
     "text": [
      "Column - job  ['management' 'technician' 'entrepreneur' 'blue-collar' 'unknown'\n",
      " 'retired' 'admin.' 'services' 'self-employed' 'unemployed' 'housemaid'\n",
      " 'student']\n",
      "\n",
      "Column - marital  ['married' 'single' 'divorced']\n",
      "\n",
      "Column - education  ['tertiary' 'secondary' 'unknown' 'primary']\n",
      "\n",
      "Column - default  ['no' 'yes']\n",
      "\n",
      "Column - housing  ['yes' 'no']\n",
      "\n",
      "Column - loan  ['no' 'yes']\n",
      "\n",
      "Column - contact  ['unknown' 'cellular' 'telephone']\n",
      "\n",
      "Column - month  ['may' 'jun' 'jul' 'aug' 'oct' 'nov' 'dec' 'jan' 'feb' 'mar' 'apr' 'sep']\n",
      "\n",
      "Column - poutcome  ['unknown' 'failure' 'other' 'success']\n",
      "\n",
      "Column - target  ['no' 'yes']\n",
      "\n"
     ]
    }
   ],
   "source": [
    "binary_columns = []\n",
    "for column in df.select_dtypes('object').columns:\n",
    "    if len(df[column].unique()) == 2:\n",
    "        binary_columns.append(column)\n",
    "    print(f\"Column - {column} \",df[column].unique(), end='\\n\\n')\n",
    "    \n",
    "    "
   ]
  },
  {
   "cell_type": "markdown",
   "metadata": {
    "tags": []
   },
   "source": [
    "##  EDA"
   ]
  },
  {
   "cell_type": "markdown",
   "metadata": {
    "tags": []
   },
   "source": [
    "### Target feature"
   ]
  },
  {
   "cell_type": "markdown",
   "metadata": {},
   "source": [
    "Target variable is highly imbalanced, this will impact perfomance of a model, this can be fixed with SMOTE technique"
   ]
  },
  {
   "cell_type": "code",
   "execution_count": 313,
   "metadata": {
    "execution": {
     "iopub.execute_input": "2023-03-14T09:23:59.640391Z",
     "iopub.status.busy": "2023-03-14T09:23:59.640120Z",
     "iopub.status.idle": "2023-03-14T09:23:59.983736Z",
     "shell.execute_reply": "2023-03-14T09:23:59.982866Z",
     "shell.execute_reply.started": "2023-03-14T09:23:59.640358Z"
    }
   },
   "outputs": [
    {
     "data": {
      "image/png": "[encoded data removed]",
      "text/plain": [
       "<Figure size 576x432 with 1 Axes>"
      ]
     },
     "metadata": {},
     "output_type": "display_data"
    }
   ],
   "source": [
    "plt.figure(figsize=(8,6))\n",
    "sns.histplot(data=df, x=\"target\", hue=\"target\", multiple=\"dodge\",binwidth=1.3)\n",
    "plt.show()"
   ]
  },
  {
   "cell_type": "markdown",
   "metadata": {
    "tags": []
   },
   "source": [
    "### Education"
   ]
  },
  {
   "cell_type": "markdown",
   "metadata": {},
   "source": [
    "Most clients have secondary education\n",
    "\n",
    "Let's see how education impacts our target variable"
   ]
  },
  {
   "cell_type": "code",
   "execution_count": 314,
   "metadata": {
    "execution": {
     "iopub.execute_input": "2023-03-14T09:24:00.020487Z",
     "iopub.status.busy": "2023-03-14T09:24:00.020133Z",
     "iopub.status.idle": "2023-03-14T09:24:00.271648Z",
     "shell.execute_reply": "2023-03-14T09:24:00.270776Z",
     "shell.execute_reply.started": "2023-03-14T09:24:00.020449Z"
    }
   },
   "outputs": [
    {
     "data": {
      "image/png": "[encoded data removed]",
      "text/plain": [
       "<Figure size 576x432 with 1 Axes>"
      ]
     },
     "metadata": {},
     "output_type": "display_data"
    }
   ],
   "source": [
    "plt.figure(figsize=(8,6))\n",
    "sns.countplot(x = 'education',\n",
    "              data = df,\n",
    "              order = df['education'].value_counts().index)\n",
    "plt.title('Education')\n",
    "plt.show()"
   ]
  },
  {
   "cell_type": "markdown",
   "metadata": {},
   "source": [
    "Even if we have more clients that have secondary education, by average clients who have tertiary have a positive target value.\n",
    "\n",
    "So, in theory this can impact output of the model"
   ]
  },
  {
   "cell_type": "code",
   "execution_count": 315,
   "metadata": {
    "execution": {
     "iopub.execute_input": "2023-03-14T09:24:00.273534Z",
     "iopub.status.busy": "2023-03-14T09:24:00.273120Z",
     "iopub.status.idle": "2023-03-14T09:24:00.335711Z",
     "shell.execute_reply": "2023-03-14T09:24:00.334912Z",
     "shell.execute_reply.started": "2023-03-14T09:24:00.273498Z"
    },
    "tags": []
   },
   "outputs": [],
   "source": [
    "education_target = df.groupby('education', as_index=False)['target']\n",
    "# education_target_mean = education_target.mean().sort_values(by='target', ascending=False)\n",
    "education_target_sum = education_target.sum().sort_values(by='target', ascending=False)"
   ]
  },
  {
   "cell_type": "code",
   "execution_count": 316,
   "metadata": {
    "execution": {
     "iopub.execute_input": "2023-03-14T09:24:00.337397Z",
     "iopub.status.busy": "2023-03-14T09:24:00.337116Z",
     "iopub.status.idle": "2023-03-14T09:24:00.341748Z",
     "shell.execute_reply": "2023-03-14T09:24:00.340794Z",
     "shell.execute_reply.started": "2023-03-14T09:24:00.337365Z"
    },
    "tags": []
   },
   "outputs": [],
   "source": [
    "# plt.figure(figsize=(16,10))\n",
    "# plt.subplot(1,3,1)\n",
    "# sns.histplot(data=df, x=\"education\", hue=\"target\", multiple=\"dodge\",binwidth=1.1,shrink=.8)\n",
    "# plt.title('Distribution of target value by education')\n",
    "\n",
    "# plt.subplot(1,3,2)\n",
    "# sns.barplot(data=education_target_mean, x='education', y='target')\n",
    "# plt.xlabel(\"education\")\n",
    "# plt.ylabel(\"Mean target\")\n",
    "# plt.title(\"Mean target value by education\")\n",
    "\n",
    "# plt.subplot(1,3,3)\n",
    "# sns.barplot(data=education_target_sum, x='education', y='target')\n",
    "# plt.xlabel(\"Education\")\n",
    "# plt.ylabel(\"Sum target\")\n",
    "# plt.title(\"Sum target value by education\")\n",
    "\n",
    "# plt.show()"
   ]
  },
  {
   "cell_type": "markdown",
   "metadata": {},
   "source": [
    "Also, clients who have secondary education and loan in average subscribe a term deposit more\n",
    "\n",
    "This can also impact the results of model"
   ]
  },
  {
   "cell_type": "code",
   "execution_count": 317,
   "metadata": {
    "execution": {
     "iopub.execute_input": "2023-03-14T09:24:00.997247Z",
     "iopub.status.busy": "2023-03-14T09:24:00.996920Z",
     "iopub.status.idle": "2023-03-14T09:24:01.002056Z",
     "shell.execute_reply": "2023-03-14T09:24:01.000833Z",
     "shell.execute_reply.started": "2023-03-14T09:24:00.997196Z"
    },
    "tags": []
   },
   "outputs": [],
   "source": [
    "# education_group = df.groupby('education', as_index=False)\n",
    "# education_loan_mean = education_group['loan'].mean().sort_values(by='loan', ascending=False)\n",
    "# education_loan_sum = education_group['loan'].sum().sort_values(by='loan', ascending=False)\n",
    "\n",
    "# education_default_mean = education_group['default'].mean().sort_values(by='default', ascending=False)\n",
    "# education_default_sum = education_group['default'].sum().sort_values(by='default', ascending=False)\n",
    "\n",
    "# education_loan_mean"
   ]
  },
  {
   "cell_type": "code",
   "execution_count": 318,
   "metadata": {
    "execution": {
     "iopub.execute_input": "2023-03-14T09:24:01.061649Z",
     "iopub.status.busy": "2023-03-14T09:24:01.061337Z",
     "iopub.status.idle": "2023-03-14T09:24:01.067293Z",
     "shell.execute_reply": "2023-03-14T09:24:01.066199Z",
     "shell.execute_reply.started": "2023-03-14T09:24:01.061616Z"
    },
    "tags": []
   },
   "outputs": [],
   "source": [
    "# plt.figure(figsize=(16,12))\n",
    "# plt.subplot(3,2,1)\n",
    "\n",
    "# sns.histplot(data=df, x=\"education\", hue=\"loan\", multiple=\"dodge\",binwidth=1.1,shrink=.8)\n",
    "# plt.title('Distribution of loan by education')\n",
    "\n",
    "# plt.subplot(3,2,2)\n",
    "# sns.histplot(data=df, x=\"education\", hue=\"default\", multiple=\"dodge\",binwidth=1.1,shrink=.8)\n",
    "# plt.title('Distribution of default by education')\n",
    "\n",
    "# plt.subplot(3,2,3)\n",
    "# sns.barplot(data=education_loan_mean, x='education', y='loan',)\n",
    "# plt.xlabel(\"education\")\n",
    "# plt.ylabel(\"Mean loan\")\n",
    "# plt.title(\"Mean loan by education\")\n",
    "\n",
    "# plt.subplot(3,2,4)\n",
    "# sns.barplot(data=education_loan_sum, x='education', y='loan')\n",
    "# plt.xlabel(\"education\")\n",
    "# plt.ylabel(\"Sum loan\")\n",
    "# plt.title(\"Sum loan by education\")\n",
    "\n",
    "# plt.subplot(3,2,5)\n",
    "# sns.barplot(data=education_default_mean, x='education', y='default')\n",
    "# plt.xlabel(\"education\")\n",
    "# plt.ylabel(\"Mean default\")\n",
    "# plt.title(\"Mean default by education\")\n",
    "\n",
    "# plt.subplot(3,2,6)\n",
    "# sns.barplot(data=education_default_sum, x='education', y='default')\n",
    "# plt.xlabel(\"education\")\n",
    "# plt.ylabel(\"Sum default\")\n",
    "# plt.title(\"Sum default by education\")\n",
    "# plt.tight_layout()\n",
    "# plt.show()"
   ]
  },
  {
   "cell_type": "markdown",
   "metadata": {},
   "source": [
    "### Job"
   ]
  },
  {
   "cell_type": "markdown",
   "metadata": {},
   "source": [
    "Most of the cliens have blue-collar, management or technician job"
   ]
  },
  {
   "cell_type": "code",
   "execution_count": 319,
   "metadata": {
    "execution": {
     "iopub.execute_input": "2023-03-14T09:24:01.069834Z",
     "iopub.status.busy": "2023-03-14T09:24:01.069418Z",
     "iopub.status.idle": "2023-03-14T09:24:01.423065Z",
     "shell.execute_reply": "2023-03-14T09:24:01.421919Z",
     "shell.execute_reply.started": "2023-03-14T09:24:01.069791Z"
    }
   },
   "outputs": [
    {
     "data": {
      "image/png": "[encoded data removed]",
      "text/plain": [
       "<Figure size 1152x432 with 1 Axes>"
      ]
     },
     "metadata": {},
     "output_type": "display_data"
    }
   ],
   "source": [
    "plt.figure(figsize=(16,6))\n",
    "sns.countplot(x = 'job',\n",
    "              data = df,\n",
    "              order = df['job'].value_counts().index, palette=sns.color_palette('viridis'))\n",
    "plt.title('job')\n",
    "plt.show()"
   ]
  },
  {
   "cell_type": "markdown",
   "metadata": {},
   "source": [
    "But, as we can see, in average students and retired clients subscribed for deposit more"
   ]
  },
  {
   "cell_type": "code",
   "execution_count": 320,
   "metadata": {
    "execution": {
     "iopub.execute_input": "2023-03-14T09:24:01.425022Z",
     "iopub.status.busy": "2023-03-14T09:24:01.424764Z",
     "iopub.status.idle": "2023-03-14T09:24:02.270164Z",
     "shell.execute_reply": "2023-03-14T09:24:02.269358Z",
     "shell.execute_reply.started": "2023-03-14T09:24:01.424990Z"
    },
    "tags": []
   },
   "outputs": [
    {
     "data": {
      "image/png": "[encoded data removed]",
      "text/plain": [
       "<Figure size 1152x576 with 1 Axes>"
      ]
     },
     "metadata": {},
     "output_type": "display_data"
    }
   ],
   "source": [
    "sns.set(rc={'figure.figsize':(16,18)})\n",
    "x,y = 'job', 'target'\n",
    "\n",
    "df1 = df.groupby(x)[y].value_counts(normalize=True)\n",
    "df1 = df1.mul(100)\n",
    "df1 = df1.rename('percent').reset_index()\n",
    "\n",
    "g= sns.catplot(x=x,y='percent',hue=y,kind='bar',data=df1)\n",
    "g.figure.set_figheight(8)\n",
    "g.figure.set_figwidth(16)\n",
    "g.ax.set_ylim(0,100)\n",
    "g.ax.set_xlabel('Job')\n",
    "g.ax.set_ylabel('% of target variable')\n",
    "g.ax.set_title(\"% of target variable by job\")\n",
    "for p in g.ax.patches:\n",
    "    txt = str(p.get_height().round(2)) + '%'\n",
    "    txt_x = p.get_x() \n",
    "    txt_y = p.get_height()\n",
    "    g.ax.text(txt_x,txt_y,txt)\n",
    "\n",
    "\n"
   ]
  },
  {
   "cell_type": "markdown",
   "metadata": {},
   "source": [
    "We have no high correlation between features"
   ]
  },
  {
   "cell_type": "markdown",
   "metadata": {},
   "source": [
    "### preprocessing"
   ]
  },
  {
   "cell_type": "code",
   "execution_count": 321,
   "metadata": {
    "execution": {
     "iopub.execute_input": "2023-03-14T09:24:02.271613Z",
     "iopub.status.busy": "2023-03-14T09:24:02.271391Z",
     "iopub.status.idle": "2023-03-14T09:24:02.304755Z",
     "shell.execute_reply": "2023-03-14T09:24:02.303602Z",
     "shell.execute_reply.started": "2023-03-14T09:24:02.271584Z"
    }
   },
   "outputs": [],
   "source": [
    "for column in binary_columns:\n",
    "    df[column] = df[column].map({'yes': 1, 'no': 0})\n",
    "    \n",
    "#df.loc[:, binary_columns]"
   ]
  },
  {
   "cell_type": "code",
   "execution_count": 322,
   "metadata": {
    "execution": {
     "iopub.execute_input": "2023-03-14T09:24:02.307702Z",
     "iopub.status.busy": "2023-03-14T09:24:02.307176Z",
     "iopub.status.idle": "2023-03-14T09:24:02.337865Z",
     "shell.execute_reply": "2023-03-14T09:24:02.337210Z",
     "shell.execute_reply.started": "2023-03-14T09:24:02.307651Z"
    }
   },
   "outputs": [
    {
     "data": {
      "text/html": [
       "<div>\n",
       "<style scoped>\n",
       "    .dataframe tbody tr th:only-of-type {\n",
       "        vertical-align: middle;\n",
       "    }\n",
       "\n",
       "    .dataframe tbody tr th {\n",
       "        vertical-align: top;\n",
       "    }\n",
       "\n",
       "    .dataframe thead th {\n",
       "        text-align: right;\n",
       "    }\n",
       "</style>\n",
       "<table border=\"1\" class=\"dataframe\">\n",
       "  <thead>\n",
       "    <tr style=\"text-align: right;\">\n",
       "      <th></th>\n",
       "      <th>index</th>\n",
       "      <th>age</th>\n",
       "      <th>default</th>\n",
       "      <th>balance</th>\n",
       "      <th>housing</th>\n",
       "      <th>loan</th>\n",
       "      <th>day</th>\n",
       "      <th>duration</th>\n",
       "      <th>campaign</th>\n",
       "      <th>pdays</th>\n",
       "      <th>previous</th>\n",
       "      <th>target</th>\n",
       "    </tr>\n",
       "  </thead>\n",
       "  <tbody>\n",
       "    <tr>\n",
       "      <th>0</th>\n",
       "      <td>0</td>\n",
       "      <td>58</td>\n",
       "      <td>0</td>\n",
       "      <td>2143</td>\n",
       "      <td>1</td>\n",
       "      <td>0</td>\n",
       "      <td>5</td>\n",
       "      <td>261</td>\n",
       "      <td>1</td>\n",
       "      <td>-1</td>\n",
       "      <td>0</td>\n",
       "      <td>0</td>\n",
       "    </tr>\n",
       "    <tr>\n",
       "      <th>1</th>\n",
       "      <td>1</td>\n",
       "      <td>44</td>\n",
       "      <td>0</td>\n",
       "      <td>29</td>\n",
       "      <td>1</td>\n",
       "      <td>0</td>\n",
       "      <td>5</td>\n",
       "      <td>151</td>\n",
       "      <td>1</td>\n",
       "      <td>-1</td>\n",
       "      <td>0</td>\n",
       "      <td>0</td>\n",
       "    </tr>\n",
       "    <tr>\n",
       "      <th>2</th>\n",
       "      <td>2</td>\n",
       "      <td>33</td>\n",
       "      <td>0</td>\n",
       "      <td>2</td>\n",
       "      <td>1</td>\n",
       "      <td>1</td>\n",
       "      <td>5</td>\n",
       "      <td>76</td>\n",
       "      <td>1</td>\n",
       "      <td>-1</td>\n",
       "      <td>0</td>\n",
       "      <td>0</td>\n",
       "    </tr>\n",
       "    <tr>\n",
       "      <th>3</th>\n",
       "      <td>3</td>\n",
       "      <td>47</td>\n",
       "      <td>0</td>\n",
       "      <td>1506</td>\n",
       "      <td>1</td>\n",
       "      <td>0</td>\n",
       "      <td>5</td>\n",
       "      <td>92</td>\n",
       "      <td>1</td>\n",
       "      <td>-1</td>\n",
       "      <td>0</td>\n",
       "      <td>0</td>\n",
       "    </tr>\n",
       "    <tr>\n",
       "      <th>4</th>\n",
       "      <td>4</td>\n",
       "      <td>33</td>\n",
       "      <td>0</td>\n",
       "      <td>1</td>\n",
       "      <td>0</td>\n",
       "      <td>0</td>\n",
       "      <td>5</td>\n",
       "      <td>198</td>\n",
       "      <td>1</td>\n",
       "      <td>-1</td>\n",
       "      <td>0</td>\n",
       "      <td>0</td>\n",
       "    </tr>\n",
       "    <tr>\n",
       "      <th>...</th>\n",
       "      <td>...</td>\n",
       "      <td>...</td>\n",
       "      <td>...</td>\n",
       "      <td>...</td>\n",
       "      <td>...</td>\n",
       "      <td>...</td>\n",
       "      <td>...</td>\n",
       "      <td>...</td>\n",
       "      <td>...</td>\n",
       "      <td>...</td>\n",
       "      <td>...</td>\n",
       "      <td>...</td>\n",
       "    </tr>\n",
       "    <tr>\n",
       "      <th>49727</th>\n",
       "      <td>4516</td>\n",
       "      <td>33</td>\n",
       "      <td>0</td>\n",
       "      <td>-333</td>\n",
       "      <td>1</td>\n",
       "      <td>0</td>\n",
       "      <td>30</td>\n",
       "      <td>329</td>\n",
       "      <td>5</td>\n",
       "      <td>-1</td>\n",
       "      <td>0</td>\n",
       "      <td>0</td>\n",
       "    </tr>\n",
       "    <tr>\n",
       "      <th>49728</th>\n",
       "      <td>4517</td>\n",
       "      <td>57</td>\n",
       "      <td>1</td>\n",
       "      <td>-3313</td>\n",
       "      <td>1</td>\n",
       "      <td>1</td>\n",
       "      <td>9</td>\n",
       "      <td>153</td>\n",
       "      <td>1</td>\n",
       "      <td>-1</td>\n",
       "      <td>0</td>\n",
       "      <td>0</td>\n",
       "    </tr>\n",
       "    <tr>\n",
       "      <th>49729</th>\n",
       "      <td>4518</td>\n",
       "      <td>57</td>\n",
       "      <td>0</td>\n",
       "      <td>295</td>\n",
       "      <td>0</td>\n",
       "      <td>0</td>\n",
       "      <td>19</td>\n",
       "      <td>151</td>\n",
       "      <td>11</td>\n",
       "      <td>-1</td>\n",
       "      <td>0</td>\n",
       "      <td>0</td>\n",
       "    </tr>\n",
       "    <tr>\n",
       "      <th>49730</th>\n",
       "      <td>4519</td>\n",
       "      <td>28</td>\n",
       "      <td>0</td>\n",
       "      <td>1137</td>\n",
       "      <td>0</td>\n",
       "      <td>0</td>\n",
       "      <td>6</td>\n",
       "      <td>129</td>\n",
       "      <td>4</td>\n",
       "      <td>211</td>\n",
       "      <td>3</td>\n",
       "      <td>0</td>\n",
       "    </tr>\n",
       "    <tr>\n",
       "      <th>49731</th>\n",
       "      <td>4520</td>\n",
       "      <td>44</td>\n",
       "      <td>0</td>\n",
       "      <td>1136</td>\n",
       "      <td>1</td>\n",
       "      <td>1</td>\n",
       "      <td>3</td>\n",
       "      <td>345</td>\n",
       "      <td>2</td>\n",
       "      <td>249</td>\n",
       "      <td>7</td>\n",
       "      <td>0</td>\n",
       "    </tr>\n",
       "  </tbody>\n",
       "</table>\n",
       "<p>49732 rows × 12 columns</p>\n",
       "</div>"
      ],
      "text/plain": [
       "       index  age  default  balance  housing  loan  day  duration  campaign  \\\n",
       "0          0   58        0     2143        1     0    5       261         1   \n",
       "1          1   44        0       29        1     0    5       151         1   \n",
       "2          2   33        0        2        1     1    5        76         1   \n",
       "3          3   47        0     1506        1     0    5        92         1   \n",
       "4          4   33        0        1        0     0    5       198         1   \n",
       "...      ...  ...      ...      ...      ...   ...  ...       ...       ...   \n",
       "49727   4516   33        0     -333        1     0   30       329         5   \n",
       "49728   4517   57        1    -3313        1     1    9       153         1   \n",
       "49729   4518   57        0      295        0     0   19       151        11   \n",
       "49730   4519   28        0     1137        0     0    6       129         4   \n",
       "49731   4520   44        0     1136        1     1    3       345         2   \n",
       "\n",
       "       pdays  previous  target  \n",
       "0         -1         0       0  \n",
       "1         -1         0       0  \n",
       "2         -1         0       0  \n",
       "3         -1         0       0  \n",
       "4         -1         0       0  \n",
       "...      ...       ...     ...  \n",
       "49727     -1         0       0  \n",
       "49728     -1         0       0  \n",
       "49729     -1         0       0  \n",
       "49730    211         3       0  \n",
       "49731    249         7       0  \n",
       "\n",
       "[49732 rows x 12 columns]"
      ]
     },
     "execution_count": 322,
     "metadata": {},
     "output_type": "execute_result"
    }
   ],
   "source": [
    "features_numeric=list(df.select_dtypes(include=['float64', 'int64']))\n",
    "features_numeric = df[features_numeric]\n",
    "features_numeric"
   ]
  },
  {
   "cell_type": "code",
   "execution_count": 323,
   "metadata": {
    "execution": {
     "iopub.execute_input": "2023-03-14T09:24:02.339720Z",
     "iopub.status.busy": "2023-03-14T09:24:02.339255Z",
     "iopub.status.idle": "2023-03-14T09:24:02.354686Z",
     "shell.execute_reply": "2023-03-14T09:24:02.353453Z",
     "shell.execute_reply.started": "2023-03-14T09:24:02.339674Z"
    }
   },
   "outputs": [],
   "source": [
    "# df['pdays'] = df['pdays'].astype(\"str\").replace('-1' , '0')\n",
    "# df['pdays'] = df['pdays'].astype(\"int64\")\n",
    "df.drop(['index', 'pdays'] , axis = 1 , inplace=True)"
   ]
  },
  {
   "cell_type": "code",
   "execution_count": 324,
   "metadata": {
    "execution": {
     "iopub.execute_input": "2023-03-14T09:24:02.357077Z",
     "iopub.status.busy": "2023-03-14T09:24:02.356373Z",
     "iopub.status.idle": "2023-03-14T09:24:02.396614Z",
     "shell.execute_reply": "2023-03-14T09:24:02.395734Z",
     "shell.execute_reply.started": "2023-03-14T09:24:02.357027Z"
    }
   },
   "outputs": [
    {
     "name": "stdout",
     "output_type": "stream",
     "text": [
      "for feature age\n",
      "Number of Nulls is 0\n",
      "Number of Unique Values 77\n",
      "First values of Unique [58 44 33 47 35 28 42 43 41 29 53 57 51 45 60 56 32 25 40 39 52 46 36 49\n",
      " 59 37 50 54 55 48 24 38 31 30 27 34 23 26 61 22 21 20 66 62 83 75 67 70\n",
      " 65 68 64 69 72 71 19 76 85 63 90 82 73 74 78 80 94 79 77 86 95 81 18 89\n",
      " 84 87 92 93 88]\n",
      "----------------------------------\n",
      "for feature default\n",
      "Number of Nulls is 0\n",
      "Number of Unique Values 2\n",
      "First values of Unique [0 1]\n",
      "----------------------------------\n",
      "for feature balance\n",
      "Number of Nulls is 0\n",
      "Number of Unique Values 7168\n",
      "First values of Unique [ 2143    29     2 ...  8205 14204 16353]\n",
      "----------------------------------\n",
      "for feature housing\n",
      "Number of Nulls is 0\n",
      "Number of Unique Values 2\n",
      "First values of Unique [1 0]\n",
      "----------------------------------\n",
      "for feature loan\n",
      "Number of Nulls is 0\n",
      "Number of Unique Values 2\n",
      "First values of Unique [0 1]\n",
      "----------------------------------\n",
      "for feature day\n",
      "Number of Nulls is 0\n",
      "Number of Unique Values 31\n",
      "First values of Unique [ 5  6  7  8  9 12 13 14 15 16 19 20 21 23 26 27 28 29 30  2  3  4 11 17\n",
      " 18 24 25  1 10 22 31]\n",
      "----------------------------------\n",
      "for feature duration\n",
      "Number of Nulls is 0\n",
      "Number of Unique Values 1573\n",
      "First values of Unique [ 261  151   76 ... 1298 1246 1556]\n",
      "----------------------------------\n",
      "for feature campaign\n",
      "Number of Nulls is 0\n",
      "Number of Unique Values 48\n",
      "First values of Unique [ 1  2  3  5  4  6  7  8  9 10 11 12 13 19 14 24 16 32 18 22 15 17 25 21\n",
      " 43 51 63 41 26 28 55 50 38 23 20 29 31 37 30 46 27 58 33 35 34 36 39 44]\n",
      "----------------------------------\n",
      "for feature previous\n",
      "Number of Nulls is 0\n",
      "Number of Unique Values 41\n",
      "First values of Unique [  0   3   1   4   2  11  16   6   5  10  12   7  18   9  21   8  14  15\n",
      "  26  37  13  25  20  27  17  23  38  29  24  51 275  22  19  30  58  28\n",
      "  32  40  55  35  41]\n",
      "----------------------------------\n",
      "for feature target\n",
      "Number of Nulls is 0\n",
      "Number of Unique Values 2\n",
      "First values of Unique [0 1]\n",
      "----------------------------------\n"
     ]
    }
   ],
   "source": [
    "for col in df[list(df.select_dtypes(include=['float64', 'int64']))].columns : \n",
    "    print(f'for feature {col}')\n",
    "    print(f'Number of Nulls is {df[col].isna().sum()}')\n",
    "    print(f'Number of Unique Values {len(df[col].unique())}')\n",
    "    print(f'First values of Unique {df[col].unique()[:]}')\n",
    "    print('----------------------------------')"
   ]
  },
  {
   "cell_type": "code",
   "execution_count": 325,
   "metadata": {
    "execution": {
     "iopub.execute_input": "2023-03-14T09:24:02.398274Z",
     "iopub.status.busy": "2023-03-14T09:24:02.397728Z",
     "iopub.status.idle": "2023-03-14T09:24:02.409419Z",
     "shell.execute_reply": "2023-03-14T09:24:02.408298Z",
     "shell.execute_reply.started": "2023-03-14T09:24:02.398205Z"
    }
   },
   "outputs": [
    {
     "data": {
      "text/plain": [
       "0    3550\n",
       "1     321\n",
       "Name: target, dtype: int64"
      ]
     },
     "execution_count": 325,
     "metadata": {},
     "output_type": "execute_result"
    }
   ],
   "source": [
    "df[df['balance'] == 0 ]['target'].value_counts()"
   ]
  },
  {
   "cell_type": "code",
   "execution_count": 326,
   "metadata": {
    "execution": {
     "iopub.execute_input": "2023-03-14T09:24:02.411016Z",
     "iopub.status.busy": "2023-03-14T09:24:02.410772Z",
     "iopub.status.idle": "2023-03-14T09:24:02.421048Z",
     "shell.execute_reply": "2023-03-14T09:24:02.420132Z",
     "shell.execute_reply.started": "2023-03-14T09:24:02.410985Z"
    }
   },
   "outputs": [
    {
     "data": {
      "text/plain": [
       "0    3891\n",
       "1     241\n",
       "Name: target, dtype: int64"
      ]
     },
     "execution_count": 326,
     "metadata": {},
     "output_type": "execute_result"
    }
   ],
   "source": [
    "df[df['balance'] < 0 ]['target'].value_counts()"
   ]
  },
  {
   "cell_type": "code",
   "execution_count": 327,
   "metadata": {
    "execution": {
     "iopub.execute_input": "2023-03-14T09:24:02.423189Z",
     "iopub.status.busy": "2023-03-14T09:24:02.422524Z",
     "iopub.status.idle": "2023-03-14T09:24:02.431721Z",
     "shell.execute_reply": "2023-03-14T09:24:02.430566Z",
     "shell.execute_reply.started": "2023-03-14T09:24:02.423150Z"
    }
   },
   "outputs": [
    {
     "data": {
      "text/plain": [
       "0    43922\n",
       "1     5810\n",
       "Name: target, dtype: int64"
      ]
     },
     "execution_count": 327,
     "metadata": {},
     "output_type": "execute_result"
    }
   ],
   "source": [
    "df['target'].value_counts()"
   ]
  },
  {
   "cell_type": "code",
   "execution_count": 328,
   "metadata": {
    "execution": {
     "iopub.execute_input": "2023-03-14T09:24:02.436526Z",
     "iopub.status.busy": "2023-03-14T09:24:02.436234Z",
     "iopub.status.idle": "2023-03-14T09:24:03.043424Z",
     "shell.execute_reply": "2023-03-14T09:24:03.042643Z",
     "shell.execute_reply.started": "2023-03-14T09:24:02.436483Z"
    }
   },
   "outputs": [
    {
     "data": {
      "text/plain": [
       "<AxesSubplot:xlabel='balance', ylabel='Density'>"
      ]
     },
     "execution_count": 328,
     "metadata": {},
     "output_type": "execute_result"
    },
    {
     "data": {
      "image/png": "[encoded data removed]",
      "text/plain": [
       "<Figure size 864x576 with 1 Axes>"
      ]
     },
     "metadata": {},
     "output_type": "display_data"
    }
   ],
   "source": [
    "sns.set(rc={'figure.figsize':(12,8)})\n",
    "sns.kdeplot(data = df , x =\"balance\")"
   ]
  },
  {
   "cell_type": "code",
   "execution_count": 329,
   "metadata": {
    "execution": {
     "iopub.execute_input": "2023-03-14T09:24:03.044781Z",
     "iopub.status.busy": "2023-03-14T09:24:03.044567Z",
     "iopub.status.idle": "2023-03-14T09:24:03.333367Z",
     "shell.execute_reply": "2023-03-14T09:24:03.332438Z",
     "shell.execute_reply.started": "2023-03-14T09:24:03.044754Z"
    }
   },
   "outputs": [
    {
     "data": {
      "text/plain": [
       "<AxesSubplot:xlabel='balance'>"
      ]
     },
     "execution_count": 329,
     "metadata": {},
     "output_type": "execute_result"
    },
    {
     "data": {
      "image/png": "[encoded data removed]",
      "text/plain": [
       "<Figure size 864x576 with 1 Axes>"
      ]
     },
     "metadata": {},
     "output_type": "display_data"
    }
   ],
   "source": [
    "sns.boxplot(data = df  , x =\"balance\")"
   ]
  },
  {
   "cell_type": "markdown",
   "metadata": {},
   "source": [
    "### preprocessing categorical"
   ]
  },
  {
   "cell_type": "code",
   "execution_count": 330,
   "metadata": {
    "execution": {
     "iopub.execute_input": "2023-03-14T09:24:03.335350Z",
     "iopub.status.busy": "2023-03-14T09:24:03.335087Z",
     "iopub.status.idle": "2023-03-14T09:24:03.347634Z",
     "shell.execute_reply": "2023-03-14T09:24:03.346748Z",
     "shell.execute_reply.started": "2023-03-14T09:24:03.335319Z"
    }
   },
   "outputs": [
    {
     "data": {
      "text/plain": [
       "unknown      142\n",
       "secondary     79\n",
       "primary       58\n",
       "tertiary      47\n",
       "Name: education, dtype: int64"
      ]
     },
     "execution_count": 330,
     "metadata": {},
     "output_type": "execute_result"
    }
   ],
   "source": [
    "df[df['job']=='unknown']['education'].value_counts()"
   ]
  },
  {
   "cell_type": "code",
   "execution_count": 331,
   "metadata": {
    "execution": {
     "iopub.execute_input": "2023-03-14T09:24:03.349879Z",
     "iopub.status.busy": "2023-03-14T09:24:03.349150Z",
     "iopub.status.idle": "2023-03-14T09:24:03.375119Z",
     "shell.execute_reply": "2023-03-14T09:24:03.374272Z",
     "shell.execute_reply.started": "2023-03-14T09:24:03.349840Z"
    }
   },
   "outputs": [],
   "source": [
    "indexNeg = df[(df['job']=='unknown') & (df['education']=='unknown')].index # Creating the set of rows to be dropped\n",
    "\n",
    "df.drop(indexNeg, inplace=True) # Droping the rows"
   ]
  },
  {
   "cell_type": "code",
   "execution_count": 332,
   "metadata": {
    "execution": {
     "iopub.execute_input": "2023-03-14T09:24:03.377085Z",
     "iopub.status.busy": "2023-03-14T09:24:03.376494Z",
     "iopub.status.idle": "2023-03-14T09:24:03.414863Z",
     "shell.execute_reply": "2023-03-14T09:24:03.413897Z",
     "shell.execute_reply.started": "2023-03-14T09:24:03.377030Z"
    }
   },
   "outputs": [
    {
     "name": "stdout",
     "output_type": "stream",
     "text": [
      "Primary education JOB mode is: blue-collar    0.548147\n",
      "retired        0.116217\n",
      "housemaid      0.090849\n",
      "Name: job, dtype: float64\n",
      "Secondary education JOB mode is blue-collar    0.231104\n",
      "technician     0.225380\n",
      "admin.         0.180806\n",
      "Name: job, dtype: float64\n",
      "Tertiary education JOB mode is management       0.586172\n",
      "technician       0.148727\n",
      "self-employed    0.062863\n",
      "Name: job, dtype: float64\n"
     ]
    }
   ],
   "source": [
    "# Finding the mode's\n",
    "\n",
    "print('Primary education JOB mode is:', df[df['education']=='primary']['job'].value_counts(normalize=True).nlargest(3))\n",
    "\n",
    "print('Secondary education JOB mode is', df[df['education']=='secondary']['job'].value_counts(normalize=True).nlargest(3))\n",
    "\n",
    "print('Tertiary education JOB mode is', df[df['education']=='tertiary']['job'].value_counts(normalize=True).nlargest(3))"
   ]
  },
  {
   "cell_type": "code",
   "execution_count": 333,
   "metadata": {
    "execution": {
     "iopub.execute_input": "2023-03-14T09:24:03.416608Z",
     "iopub.status.busy": "2023-03-14T09:24:03.416109Z",
     "iopub.status.idle": "2023-03-14T09:24:04.100849Z",
     "shell.execute_reply": "2023-03-14T09:24:04.100089Z",
     "shell.execute_reply.started": "2023-03-14T09:24:03.416571Z"
    }
   },
   "outputs": [],
   "source": [
    "df['job'] = np.where( ((df.job == 'unknown')& (df.education =='primary')),'blue-collar',df.job)\n",
    "\n",
    "\n",
    "df['job'] = np.where( ((df.job == 'unknown')& (df.education =='tertiary')),'management',df.job)\n",
    "\n",
    "import random\n",
    "\n",
    "secjobs=['blue-collar','technician','admin.']\n",
    "i=0\n",
    "while i <74:\n",
    "    p=random.choice(secjobs)\n",
    "    df['job'] = np.where( ((df.job == 'unknown')&(df.education =='secondary')),p,df.job)\n",
    "    i=i+1"
   ]
  },
  {
   "cell_type": "code",
   "execution_count": 334,
   "metadata": {
    "execution": {
     "iopub.execute_input": "2023-03-14T09:24:04.102124Z",
     "iopub.status.busy": "2023-03-14T09:24:04.101905Z",
     "iopub.status.idle": "2023-03-14T09:24:04.115251Z",
     "shell.execute_reply": "2023-03-14T09:24:04.114400Z",
     "shell.execute_reply.started": "2023-03-14T09:24:04.102097Z"
    }
   },
   "outputs": [
    {
     "data": {
      "text/plain": [
       "blue-collar      495\n",
       "management       269\n",
       "technician       264\n",
       "admin.           188\n",
       "student          179\n",
       "services         163\n",
       "retired          133\n",
       "entrepreneur      87\n",
       "housemaid         50\n",
       "self-employed     43\n",
       "unemployed        31\n",
       "Name: job, dtype: int64"
      ]
     },
     "execution_count": 334,
     "metadata": {},
     "output_type": "execute_result"
    }
   ],
   "source": [
    "df[df['education']=='unknown']['job'].value_counts()"
   ]
  },
  {
   "cell_type": "code",
   "execution_count": 335,
   "metadata": {
    "execution": {
     "iopub.execute_input": "2023-03-14T09:24:04.117226Z",
     "iopub.status.busy": "2023-03-14T09:24:04.116655Z",
     "iopub.status.idle": "2023-03-14T09:24:04.211071Z",
     "shell.execute_reply": "2023-03-14T09:24:04.210009Z",
     "shell.execute_reply.started": "2023-03-14T09:24:04.117178Z"
    }
   },
   "outputs": [
    {
     "name": "stdout",
     "output_type": "stream",
     "text": [
      "JOB Blue-Collar education mode is: secondary    0.552381\n",
      "primary      0.386963\n",
      "Name: education, dtype: float64\n",
      "JOB technician education mode is: secondary    0.687268\n",
      "tertiary     0.260490\n",
      "Name: education, dtype: float64\n",
      "JOB management education mode is: tertiary     0.824422\n",
      "secondary    0.118102\n",
      "Name: education, dtype: float64\n",
      "JOB admin education mode is: secondary    0.816428\n",
      "tertiary     0.110285\n",
      "Name: education, dtype: float64\n",
      "JOB student education mode is: secondary    0.543053\n",
      "tertiary     0.236791\n",
      "Name: education, dtype: float64\n",
      "JOB services education mode is: secondary    0.835703\n",
      "primary      0.080945\n",
      "Name: education, dtype: float64\n",
      "JOB retired education mode is: secondary    0.436648\n",
      "primary      0.350842\n",
      "Name: education, dtype: float64\n",
      "JOB entrepreneur education mode is: tertiary     0.458610\n",
      "secondary    0.362538\n",
      "Name: education, dtype: float64\n",
      "JOB housemaid education mode is: primary      0.505917\n",
      "secondary    0.312870\n",
      "Name: education, dtype: float64\n",
      "JOB self-employed education mode is: tertiary     0.522701\n",
      "secondary    0.370602\n",
      "Name: education, dtype: float64\n",
      "JOB unemployed education mode is: secondary    0.556254\n",
      "tertiary     0.224319\n",
      "Name: education, dtype: float64\n"
     ]
    }
   ],
   "source": [
    "# Finding the mode's\n",
    "\n",
    "print('JOB Blue-Collar education mode is:', df[df['job']=='blue-collar']['education'].value_counts(normalize=True).nlargest(2))\n",
    "\n",
    "print('JOB technician education mode is:', df[df['job']=='technician']['education'].value_counts(normalize=True).nlargest(2))\n",
    "\n",
    "print('JOB management education mode is:', df[df['job']=='management']['education'].value_counts(normalize=True).nlargest(2))\n",
    "\n",
    "print('JOB admin education mode is:', df[df['job']=='admin.']['education'].value_counts(normalize=True).nlargest(2))\n",
    "\n",
    "print('JOB student education mode is:', df[df['job']=='student']['education'].value_counts(normalize=True).nlargest(2))\n",
    "\n",
    "print('JOB services education mode is:', df[df['job']=='services']['education'].value_counts(normalize=True).nlargest(2))\n",
    "\n",
    "print('JOB retired education mode is:', df[df['job']=='retired']['education'].value_counts(normalize=True).nlargest(2))\n",
    "\n",
    "print('JOB entrepreneur education mode is:', df[df['job']=='entrepreneur']['education'].value_counts(normalize=True).nlargest(2))\n",
    "\n",
    "print('JOB housemaid education mode is:', df[df['job']=='housemaid']['education'].value_counts(normalize=True).nlargest(2))\n",
    "\n",
    "print('JOB self-employed education mode is:', df[df['job']=='self-employed']['education'].value_counts(normalize=True).nlargest(2))\n",
    "\n",
    "print('JOB unemployed education mode is:', df[df['job']=='unemployed']['education'].value_counts(normalize=True).nlargest(2))"
   ]
  },
  {
   "cell_type": "code",
   "execution_count": 336,
   "metadata": {
    "execution": {
     "iopub.execute_input": "2023-03-14T09:24:04.212839Z",
     "iopub.status.busy": "2023-03-14T09:24:04.212526Z",
     "iopub.status.idle": "2023-03-14T09:24:04.324938Z",
     "shell.execute_reply": "2023-03-14T09:24:04.324012Z",
     "shell.execute_reply.started": "2023-03-14T09:24:04.212792Z"
    }
   },
   "outputs": [],
   "source": [
    "s=['blue-collar', 'technician', 'admin.' ,'student', 'education', 'retired', 'services' ,'unemployed']\n",
    "t=['management','entrepreneur','self-employed']\n",
    "\n",
    "# TRAIN DATA\n",
    "\n",
    "for job in s:\n",
    "    df['education'] = np.where( ((df.education == 'unknown')& (df.job ==job)),'secondary',df.education)\n",
    "    \n",
    "for job in t:\n",
    "    df['education'] = np.where( ((df.education == 'unknown')& (df.job ==job)),'tertiary',df.education)\n",
    "    \n",
    "df['education'] = np.where( ((df.education == 'unknown')& (df.job =='housemaid')),'primary',df.education)"
   ]
  },
  {
   "cell_type": "code",
   "execution_count": 337,
   "metadata": {
    "execution": {
     "iopub.execute_input": "2023-03-14T09:24:04.326576Z",
     "iopub.status.busy": "2023-03-14T09:24:04.326352Z",
     "iopub.status.idle": "2023-03-14T09:24:04.337530Z",
     "shell.execute_reply": "2023-03-14T09:24:04.336302Z",
     "shell.execute_reply.started": "2023-03-14T09:24:04.326545Z"
    }
   },
   "outputs": [],
   "source": [
    "df['contact'] = np.where( (df.contact == 'unknown'),'cellular',df.contact)"
   ]
  },
  {
   "cell_type": "code",
   "execution_count": 338,
   "metadata": {
    "execution": {
     "iopub.execute_input": "2023-03-14T09:24:04.339408Z",
     "iopub.status.busy": "2023-03-14T09:24:04.339127Z",
     "iopub.status.idle": "2023-03-14T09:24:04.355108Z",
     "shell.execute_reply": "2023-03-14T09:24:04.354128Z",
     "shell.execute_reply.started": "2023-03-14T09:24:04.339375Z"
    }
   },
   "outputs": [
    {
     "data": {
      "text/plain": [
       "cellular     46410\n",
       "telephone     3180\n",
       "Name: contact, dtype: int64"
      ]
     },
     "execution_count": 338,
     "metadata": {},
     "output_type": "execute_result"
    }
   ],
   "source": [
    "df['contact'].value_counts()"
   ]
  },
  {
   "cell_type": "code",
   "execution_count": 339,
   "metadata": {
    "execution": {
     "iopub.execute_input": "2023-03-14T09:24:04.357289Z",
     "iopub.status.busy": "2023-03-14T09:24:04.356762Z",
     "iopub.status.idle": "2023-03-14T09:24:04.375859Z",
     "shell.execute_reply": "2023-03-14T09:24:04.375029Z",
     "shell.execute_reply.started": "2023-03-14T09:24:04.357207Z"
    }
   },
   "outputs": [
    {
     "data": {
      "text/plain": [
       "unknown    81.74\n",
       "failure    10.86\n",
       "other       4.11\n",
       "success     3.30\n",
       "Name: poutcome, dtype: float64"
      ]
     },
     "execution_count": 339,
     "metadata": {},
     "output_type": "execute_result"
    }
   ],
   "source": [
    "round(df['poutcome'].value_counts(normalize=True)*100,2)"
   ]
  },
  {
   "cell_type": "code",
   "execution_count": 340,
   "metadata": {
    "execution": {
     "iopub.execute_input": "2023-03-14T09:24:04.377525Z",
     "iopub.status.busy": "2023-03-14T09:24:04.377237Z",
     "iopub.status.idle": "2023-03-14T09:24:04.391059Z",
     "shell.execute_reply": "2023-03-14T09:24:04.390027Z",
     "shell.execute_reply.started": "2023-03-14T09:24:04.377490Z"
    }
   },
   "outputs": [],
   "source": [
    "df.drop(columns=['poutcome'],inplace=True)"
   ]
  },
  {
   "cell_type": "code",
   "execution_count": 341,
   "metadata": {
    "execution": {
     "iopub.execute_input": "2023-03-14T09:24:04.393128Z",
     "iopub.status.busy": "2023-03-14T09:24:04.392705Z",
     "iopub.status.idle": "2023-03-14T09:24:04.397135Z",
     "shell.execute_reply": "2023-03-14T09:24:04.396319Z",
     "shell.execute_reply.started": "2023-03-14T09:24:04.393070Z"
    }
   },
   "outputs": [],
   "source": [
    "# df.drop(columns=['day'],inplace=True)\n",
    "# df.drop(columns=['pdays'],inplace=True)"
   ]
  },
  {
   "cell_type": "code",
   "execution_count": 342,
   "metadata": {
    "execution": {
     "iopub.execute_input": "2023-03-14T09:24:04.398708Z",
     "iopub.status.busy": "2023-03-14T09:24:04.398399Z",
     "iopub.status.idle": "2023-03-14T09:24:04.425016Z",
     "shell.execute_reply": "2023-03-14T09:24:04.423990Z",
     "shell.execute_reply.started": "2023-03-14T09:24:04.398660Z"
    }
   },
   "outputs": [],
   "source": [
    "month_dict = {'may':5, \n",
    "        'jun':6, \n",
    "        'jul':7, \n",
    "        'aug':8, \n",
    "        'oct':10, \n",
    "        'nov':11,\n",
    "        'dec':12,\n",
    "        'jan':1,\n",
    "        'feb':2,\n",
    "        'mar': 3,\n",
    "        'apr': 4,\n",
    "        'sep':9 }\n",
    "\n",
    "education_dict = {\"secondary\" : 2 , 'tertiary' : 3 , \"primary\"  : 1 }\n",
    "\n",
    "# apply using map\n",
    "df['month'] = df['month'].map(month_dict)\n",
    "df['education'] = df['education'].map(education_dict)"
   ]
  },
  {
   "cell_type": "code",
   "execution_count": 343,
   "metadata": {
    "execution": {
     "iopub.execute_input": "2023-03-14T09:24:04.426712Z",
     "iopub.status.busy": "2023-03-14T09:24:04.426475Z",
     "iopub.status.idle": "2023-03-14T09:24:04.447989Z",
     "shell.execute_reply": "2023-03-14T09:24:04.444353Z",
     "shell.execute_reply.started": "2023-03-14T09:24:04.426682Z"
    }
   },
   "outputs": [
    {
     "ename": "NameError",
     "evalue": "name 'sdjfl' is not defined",
     "output_type": "error",
     "traceback": [
      "\u001b[0;31m---------------------------------------------------------------------------\u001b[0m",
      "\u001b[0;31mNameError\u001b[0m                                 Traceback (most recent call last)",
      "\u001b[0;32m/tmp/ipykernel_20/1103982367.py\u001b[0m in \u001b[0;36m<module>\u001b[0;34m\u001b[0m\n\u001b[0;32m----> 1\u001b[0;31m \u001b[0mprint\u001b[0m\u001b[0;34m(\u001b[0m\u001b[0msdjfl\u001b[0m\u001b[0;34m)\u001b[0m\u001b[0;34m\u001b[0m\u001b[0;34m\u001b[0m\u001b[0m\n\u001b[0m",
      "\u001b[0;31mNameError\u001b[0m: name 'sdjfl' is not defined"
     ]
    }
   ],
   "source": [
    "print(sdjfl)"
   ]
  },
  {
   "cell_type": "code",
   "execution_count": 358,
   "metadata": {
    "execution": {
     "iopub.execute_input": "2023-03-14T09:24:33.972354Z",
     "iopub.status.busy": "2023-03-14T09:24:33.971579Z",
     "iopub.status.idle": "2023-03-14T09:24:33.988341Z",
     "shell.execute_reply": "2023-03-14T09:24:33.987479Z",
     "shell.execute_reply.started": "2023-03-14T09:24:33.972308Z"
    }
   },
   "outputs": [
    {
     "data": {
      "text/html": [
       "<div>\n",
       "<style scoped>\n",
       "    .dataframe tbody tr th:only-of-type {\n",
       "        vertical-align: middle;\n",
       "    }\n",
       "\n",
       "    .dataframe tbody tr th {\n",
       "        vertical-align: top;\n",
       "    }\n",
       "\n",
       "    .dataframe thead th {\n",
       "        text-align: right;\n",
       "    }\n",
       "</style>\n",
       "<table border=\"1\" class=\"dataframe\">\n",
       "  <thead>\n",
       "    <tr style=\"text-align: right;\">\n",
       "      <th></th>\n",
       "      <th>age</th>\n",
       "      <th>job</th>\n",
       "      <th>marital</th>\n",
       "      <th>education</th>\n",
       "      <th>default</th>\n",
       "      <th>balance</th>\n",
       "      <th>housing</th>\n",
       "      <th>loan</th>\n",
       "      <th>contact</th>\n",
       "      <th>day</th>\n",
       "      <th>month</th>\n",
       "      <th>duration</th>\n",
       "      <th>campaign</th>\n",
       "      <th>previous</th>\n",
       "      <th>target</th>\n",
       "    </tr>\n",
       "  </thead>\n",
       "  <tbody>\n",
       "    <tr>\n",
       "      <th>0</th>\n",
       "      <td>58</td>\n",
       "      <td>management</td>\n",
       "      <td>married</td>\n",
       "      <td>3</td>\n",
       "      <td>0</td>\n",
       "      <td>2143</td>\n",
       "      <td>1</td>\n",
       "      <td>0</td>\n",
       "      <td>cellular</td>\n",
       "      <td>5</td>\n",
       "      <td>5</td>\n",
       "      <td>261</td>\n",
       "      <td>1</td>\n",
       "      <td>0</td>\n",
       "      <td>0</td>\n",
       "    </tr>\n",
       "    <tr>\n",
       "      <th>1</th>\n",
       "      <td>44</td>\n",
       "      <td>technician</td>\n",
       "      <td>single</td>\n",
       "      <td>2</td>\n",
       "      <td>0</td>\n",
       "      <td>29</td>\n",
       "      <td>1</td>\n",
       "      <td>0</td>\n",
       "      <td>cellular</td>\n",
       "      <td>5</td>\n",
       "      <td>5</td>\n",
       "      <td>151</td>\n",
       "      <td>1</td>\n",
       "      <td>0</td>\n",
       "      <td>0</td>\n",
       "    </tr>\n",
       "    <tr>\n",
       "      <th>2</th>\n",
       "      <td>33</td>\n",
       "      <td>entrepreneur</td>\n",
       "      <td>married</td>\n",
       "      <td>2</td>\n",
       "      <td>0</td>\n",
       "      <td>2</td>\n",
       "      <td>1</td>\n",
       "      <td>1</td>\n",
       "      <td>cellular</td>\n",
       "      <td>5</td>\n",
       "      <td>5</td>\n",
       "      <td>76</td>\n",
       "      <td>1</td>\n",
       "      <td>0</td>\n",
       "      <td>0</td>\n",
       "    </tr>\n",
       "    <tr>\n",
       "      <th>3</th>\n",
       "      <td>47</td>\n",
       "      <td>blue-collar</td>\n",
       "      <td>married</td>\n",
       "      <td>2</td>\n",
       "      <td>0</td>\n",
       "      <td>1506</td>\n",
       "      <td>1</td>\n",
       "      <td>0</td>\n",
       "      <td>cellular</td>\n",
       "      <td>5</td>\n",
       "      <td>5</td>\n",
       "      <td>92</td>\n",
       "      <td>1</td>\n",
       "      <td>0</td>\n",
       "      <td>0</td>\n",
       "    </tr>\n",
       "    <tr>\n",
       "      <th>5</th>\n",
       "      <td>35</td>\n",
       "      <td>management</td>\n",
       "      <td>married</td>\n",
       "      <td>3</td>\n",
       "      <td>0</td>\n",
       "      <td>231</td>\n",
       "      <td>1</td>\n",
       "      <td>0</td>\n",
       "      <td>cellular</td>\n",
       "      <td>5</td>\n",
       "      <td>5</td>\n",
       "      <td>139</td>\n",
       "      <td>1</td>\n",
       "      <td>0</td>\n",
       "      <td>0</td>\n",
       "    </tr>\n",
       "  </tbody>\n",
       "</table>\n",
       "</div>"
      ],
      "text/plain": [
       "   age           job  marital  education  default  balance  housing  loan  \\\n",
       "0   58    management  married          3        0     2143        1     0   \n",
       "1   44    technician   single          2        0       29        1     0   \n",
       "2   33  entrepreneur  married          2        0        2        1     1   \n",
       "3   47   blue-collar  married          2        0     1506        1     0   \n",
       "5   35    management  married          3        0      231        1     0   \n",
       "\n",
       "    contact  day  month  duration  campaign  previous  target  \n",
       "0  cellular    5      5       261         1         0       0  \n",
       "1  cellular    5      5       151         1         0       0  \n",
       "2  cellular    5      5        76         1         0       0  \n",
       "3  cellular    5      5        92         1         0       0  \n",
       "5  cellular    5      5       139         1         0       0  "
      ]
     },
     "execution_count": 358,
     "metadata": {},
     "output_type": "execute_result"
    }
   ],
   "source": [
    "df.head()"
   ]
  },
  {
   "cell_type": "code",
   "execution_count": 388,
   "metadata": {
    "execution": {
     "iopub.execute_input": "2023-03-14T09:28:51.245486Z",
     "iopub.status.busy": "2023-03-14T09:28:51.244934Z",
     "iopub.status.idle": "2023-03-14T09:28:51.256797Z",
     "shell.execute_reply": "2023-03-14T09:28:51.255904Z",
     "shell.execute_reply.started": "2023-03-14T09:28:51.245451Z"
    }
   },
   "outputs": [],
   "source": [
    "label_df = df.copy()"
   ]
  },
  {
   "cell_type": "code",
   "execution_count": 389,
   "metadata": {
    "execution": {
     "iopub.execute_input": "2023-03-14T09:28:52.360429Z",
     "iopub.status.busy": "2023-03-14T09:28:52.359644Z",
     "iopub.status.idle": "2023-03-14T09:28:52.388808Z",
     "shell.execute_reply": "2023-03-14T09:28:52.387825Z",
     "shell.execute_reply.started": "2023-03-14T09:28:52.360372Z"
    }
   },
   "outputs": [],
   "source": [
    "# label_df['balance'] = label_df['balance'].apply(lambda x : 0 if x < 0 else x )\n",
    "# label_df['duration'] = label_df['duration'] / 60 \n",
    "# cols = [\"balance\",'duration']\n",
    "# for col in cols :\n",
    "#     label_df[col] = np.log(label_df[col])\n",
    "\n",
    "# label_df.head()    "
   ]
  },
  {
   "cell_type": "code",
   "execution_count": 418,
   "metadata": {
    "execution": {
     "iopub.execute_input": "2023-03-14T09:35:08.619040Z",
     "iopub.status.busy": "2023-03-14T09:35:08.618724Z",
     "iopub.status.idle": "2023-03-14T09:35:08.623126Z",
     "shell.execute_reply": "2023-03-14T09:35:08.622281Z",
     "shell.execute_reply.started": "2023-03-14T09:35:08.619004Z"
    }
   },
   "outputs": [],
   "source": [
    "# label_df.isna().sum()"
   ]
  },
  {
   "cell_type": "code",
   "execution_count": 420,
   "metadata": {
    "execution": {
     "iopub.execute_input": "2023-03-14T09:35:27.499449Z",
     "iopub.status.busy": "2023-03-14T09:35:27.499139Z",
     "iopub.status.idle": "2023-03-14T09:35:27.516179Z",
     "shell.execute_reply": "2023-03-14T09:35:27.515163Z",
     "shell.execute_reply.started": "2023-03-14T09:35:27.499416Z"
    }
   },
   "outputs": [
    {
     "data": {
      "text/html": [
       "<div>\n",
       "<style scoped>\n",
       "    .dataframe tbody tr th:only-of-type {\n",
       "        vertical-align: middle;\n",
       "    }\n",
       "\n",
       "    .dataframe tbody tr th {\n",
       "        vertical-align: top;\n",
       "    }\n",
       "\n",
       "    .dataframe thead th {\n",
       "        text-align: right;\n",
       "    }\n",
       "</style>\n",
       "<table border=\"1\" class=\"dataframe\">\n",
       "  <thead>\n",
       "    <tr style=\"text-align: right;\">\n",
       "      <th></th>\n",
       "      <th>age</th>\n",
       "      <th>job</th>\n",
       "      <th>marital</th>\n",
       "      <th>education</th>\n",
       "      <th>default</th>\n",
       "      <th>balance</th>\n",
       "      <th>housing</th>\n",
       "      <th>loan</th>\n",
       "      <th>contact</th>\n",
       "      <th>day</th>\n",
       "      <th>month</th>\n",
       "      <th>duration</th>\n",
       "      <th>campaign</th>\n",
       "      <th>previous</th>\n",
       "      <th>target</th>\n",
       "    </tr>\n",
       "  </thead>\n",
       "  <tbody>\n",
       "    <tr>\n",
       "      <th>0</th>\n",
       "      <td>58</td>\n",
       "      <td>management</td>\n",
       "      <td>married</td>\n",
       "      <td>3</td>\n",
       "      <td>0</td>\n",
       "      <td>2143</td>\n",
       "      <td>1</td>\n",
       "      <td>0</td>\n",
       "      <td>cellular</td>\n",
       "      <td>5</td>\n",
       "      <td>5</td>\n",
       "      <td>261</td>\n",
       "      <td>1</td>\n",
       "      <td>0</td>\n",
       "      <td>0</td>\n",
       "    </tr>\n",
       "    <tr>\n",
       "      <th>1</th>\n",
       "      <td>44</td>\n",
       "      <td>technician</td>\n",
       "      <td>single</td>\n",
       "      <td>2</td>\n",
       "      <td>0</td>\n",
       "      <td>29</td>\n",
       "      <td>1</td>\n",
       "      <td>0</td>\n",
       "      <td>cellular</td>\n",
       "      <td>5</td>\n",
       "      <td>5</td>\n",
       "      <td>151</td>\n",
       "      <td>1</td>\n",
       "      <td>0</td>\n",
       "      <td>0</td>\n",
       "    </tr>\n",
       "    <tr>\n",
       "      <th>2</th>\n",
       "      <td>33</td>\n",
       "      <td>entrepreneur</td>\n",
       "      <td>married</td>\n",
       "      <td>2</td>\n",
       "      <td>0</td>\n",
       "      <td>2</td>\n",
       "      <td>1</td>\n",
       "      <td>1</td>\n",
       "      <td>cellular</td>\n",
       "      <td>5</td>\n",
       "      <td>5</td>\n",
       "      <td>76</td>\n",
       "      <td>1</td>\n",
       "      <td>0</td>\n",
       "      <td>0</td>\n",
       "    </tr>\n",
       "    <tr>\n",
       "      <th>3</th>\n",
       "      <td>47</td>\n",
       "      <td>blue-collar</td>\n",
       "      <td>married</td>\n",
       "      <td>2</td>\n",
       "      <td>0</td>\n",
       "      <td>1506</td>\n",
       "      <td>1</td>\n",
       "      <td>0</td>\n",
       "      <td>cellular</td>\n",
       "      <td>5</td>\n",
       "      <td>5</td>\n",
       "      <td>92</td>\n",
       "      <td>1</td>\n",
       "      <td>0</td>\n",
       "      <td>0</td>\n",
       "    </tr>\n",
       "    <tr>\n",
       "      <th>5</th>\n",
       "      <td>35</td>\n",
       "      <td>management</td>\n",
       "      <td>married</td>\n",
       "      <td>3</td>\n",
       "      <td>0</td>\n",
       "      <td>231</td>\n",
       "      <td>1</td>\n",
       "      <td>0</td>\n",
       "      <td>cellular</td>\n",
       "      <td>5</td>\n",
       "      <td>5</td>\n",
       "      <td>139</td>\n",
       "      <td>1</td>\n",
       "      <td>0</td>\n",
       "      <td>0</td>\n",
       "    </tr>\n",
       "  </tbody>\n",
       "</table>\n",
       "</div>"
      ],
      "text/plain": [
       "   age           job  marital  education  default  balance  housing  loan  \\\n",
       "0   58    management  married          3        0     2143        1     0   \n",
       "1   44    technician   single          2        0       29        1     0   \n",
       "2   33  entrepreneur  married          2        0        2        1     1   \n",
       "3   47   blue-collar  married          2        0     1506        1     0   \n",
       "5   35    management  married          3        0      231        1     0   \n",
       "\n",
       "    contact  day  month  duration  campaign  previous  target  \n",
       "0  cellular    5      5       261         1         0       0  \n",
       "1  cellular    5      5       151         1         0       0  \n",
       "2  cellular    5      5        76         1         0       0  \n",
       "3  cellular    5      5        92         1         0       0  \n",
       "5  cellular    5      5       139         1         0       0  "
      ]
     },
     "execution_count": 420,
     "metadata": {},
     "output_type": "execute_result"
    }
   ],
   "source": [
    "df.head()"
   ]
  },
  {
   "cell_type": "code",
   "execution_count": 421,
   "metadata": {
    "execution": {
     "iopub.execute_input": "2023-03-14T09:35:48.094672Z",
     "iopub.status.busy": "2023-03-14T09:35:48.094363Z",
     "iopub.status.idle": "2023-03-14T09:35:48.100367Z",
     "shell.execute_reply": "2023-03-14T09:35:48.099656Z",
     "shell.execute_reply.started": "2023-03-14T09:35:48.094639Z"
    }
   },
   "outputs": [],
   "source": [
    "label_df['duration'] = label_df['duration'] / 60 "
   ]
  },
  {
   "cell_type": "code",
   "execution_count": 422,
   "metadata": {
    "execution": {
     "iopub.execute_input": "2023-03-14T09:35:50.568899Z",
     "iopub.status.busy": "2023-03-14T09:35:50.568583Z",
     "iopub.status.idle": "2023-03-14T09:35:51.803322Z",
     "shell.execute_reply": "2023-03-14T09:35:51.802645Z",
     "shell.execute_reply.started": "2023-03-14T09:35:50.568862Z"
    }
   },
   "outputs": [
    {
     "data": {
      "text/plain": [
       "<AxesSubplot:>"
      ]
     },
     "execution_count": 422,
     "metadata": {},
     "output_type": "execute_result"
    },
    {
     "data": {
      "image/png": "[encoded data removed]",
      "text/plain": [
       "<Figure size 864x720 with 2 Axes>"
      ]
     },
     "metadata": {},
     "output_type": "display_data"
    }
   ],
   "source": [
    "plt.figure(figsize=(12,10))\n",
    "correlation_matrix = df.corr()\n",
    "sns.heatmap(correlation_matrix, annot =True)"
   ]
  },
  {
   "cell_type": "code",
   "execution_count": 423,
   "metadata": {
    "execution": {
     "iopub.execute_input": "2023-03-14T09:35:56.812592Z",
     "iopub.status.busy": "2023-03-14T09:35:56.811902Z",
     "iopub.status.idle": "2023-03-14T09:35:56.841099Z",
     "shell.execute_reply": "2023-03-14T09:35:56.840154Z",
     "shell.execute_reply.started": "2023-03-14T09:35:56.812553Z"
    }
   },
   "outputs": [
    {
     "name": "stdout",
     "output_type": "stream",
     "text": [
      "Chi-square statistic: 30830.190891760576\n",
      "P-value: 0.0\n",
      "Degrees of freedom: 20\n",
      "Expected frequencies:\n",
      "[[ 863.35493043 3071.23793103 1714.40713854]\n",
      " [1652.89140956 5879.87931034 3282.2292801 ]\n",
      " [ 252.9389998   899.78735632  502.27364388]\n",
      " [ 206.63053035  735.05287356  410.31659609]\n",
      " [1600.77527727 5694.48505747 3178.73966526]\n",
      " [ 381.16608187 1355.93333333  756.9005848 ]\n",
      " [ 269.29215568  957.96091954  534.74692478]\n",
      " [ 698.60070579 2485.15287356 1387.24642065]\n",
      " [ 156.19556362  555.63908046  310.16535592]\n",
      " [1278.44998992 4547.86781609 2538.68219399]\n",
      " [ 218.70435572  778.00344828  434.29219601]]\n"
     ]
    }
   ],
   "source": [
    "from scipy.stats import chi2_contingency\n",
    "\n",
    "contingency_table = pd.crosstab(df['job'], df['education'])\n",
    "\n",
    "# perform the chi-square test\n",
    "chi2, p, dof, expected = chi2_contingency(contingency_table)\n",
    "\n",
    "# print the results\n",
    "print(f\"Chi-square statistic: {chi2}\")\n",
    "print(f\"P-value: {p}\")\n",
    "print(f\"Degrees of freedom: {dof}\")\n",
    "print(\"Expected frequencies:\")\n",
    "print(expected)"
   ]
  },
  {
   "cell_type": "code",
   "execution_count": 424,
   "metadata": {
    "execution": {
     "iopub.execute_input": "2023-03-14T09:36:06.075343Z",
     "iopub.status.busy": "2023-03-14T09:36:06.074710Z",
     "iopub.status.idle": "2023-03-14T09:36:06.080000Z",
     "shell.execute_reply": "2023-03-14T09:36:06.079317Z",
     "shell.execute_reply.started": "2023-03-14T09:36:06.075280Z"
    }
   },
   "outputs": [],
   "source": [
    "Encoder = ColumnTransformer(transformers=[(\"OHE\" , OneHotEncoder(sparse=False , drop=\"first\") , [\"marital\" , \"contact\" , \"job\" ]  )  ] ,remainder=\"passthrough\"               )"
   ]
  },
  {
   "cell_type": "code",
   "execution_count": 425,
   "metadata": {
    "execution": {
     "iopub.execute_input": "2023-03-14T09:36:16.598139Z",
     "iopub.status.busy": "2023-03-14T09:36:16.597590Z",
     "iopub.status.idle": "2023-03-14T09:36:16.743931Z",
     "shell.execute_reply": "2023-03-14T09:36:16.743278Z",
     "shell.execute_reply.started": "2023-03-14T09:36:16.598084Z"
    }
   },
   "outputs": [],
   "source": [
    "x = df.drop([\"target\", 'day'] , axis = 1 )\n",
    "y = df[\"target\"]\n",
    "\n",
    "x_train, x_test, y_train, y_test = train_test_split(x, y, test_size=0.2, random_state=0)\n",
    "\n",
    "\n",
    "split_index = [-1 if x in x_train.index else 0 for x in x.index]\n",
    "\n",
    "# Use the list to create PredefinedSplit\n",
    "pds = PredefinedSplit(test_fold = split_index)"
   ]
  },
  {
   "cell_type": "code",
   "execution_count": 426,
   "metadata": {
    "execution": {
     "iopub.execute_input": "2023-03-14T09:36:20.561621Z",
     "iopub.status.busy": "2023-03-14T09:36:20.560803Z",
     "iopub.status.idle": "2023-03-14T09:36:20.568259Z",
     "shell.execute_reply": "2023-03-14T09:36:20.567623Z",
     "shell.execute_reply.started": "2023-03-14T09:36:20.561559Z"
    }
   },
   "outputs": [],
   "source": [
    "models = list()\n",
    "models.append((\"LR\" , LogisticRegression(solver='liblinear')))\n",
    "models.append((\"KNN\" , KNeighborsClassifier()  ))\n",
    "models.append((\"CART\" , DecisionTreeClassifier()  ))\n",
    "models.append((\"RF\" , RandomForestClassifier()  ))\n",
    "models.append((\"SVC\" , SVC()  ))\n",
    "models.append((\"xg\" , XGBClassifier() ))"
   ]
  },
  {
   "cell_type": "code",
   "execution_count": 430,
   "metadata": {
    "execution": {
     "iopub.execute_input": "2023-03-14T09:43:25.198836Z",
     "iopub.status.busy": "2023-03-14T09:43:25.198540Z",
     "iopub.status.idle": "2023-03-14T09:50:54.308277Z",
     "shell.execute_reply": "2023-03-14T09:50:54.307304Z",
     "shell.execute_reply.started": "2023-03-14T09:43:25.198806Z"
    }
   },
   "outputs": [
    {
     "name": "stdout",
     "output_type": "stream",
     "text": [
      "LR\n",
      "Train_accuracy 0.8044968743698326\n",
      "Train_f1_score 0.4804394426580921\n",
      "Train_precision 0.3480201863354037\n",
      "Train_recall 0.7755190311418685\n",
      "Train_roc_auc 0.8654875204761201\n",
      "----------\n",
      "Train_accuracy 0.8024803387779794\n",
      "Train_f1_score 0.4813343923749007\n",
      "Train_precision 0.34800918836140887\n",
      "Train_recall 0.7802575107296137\n",
      "Train_roc_auc 0.8678441088745049\n",
      "--------------------\n",
      "\n",
      "\n",
      "KNN\n",
      "Train_accuracy 0.8865194595684613\n",
      "Train_f1_score 0.6715307164745367\n",
      "Train_precision 0.5067165822506056\n",
      "Train_recall 0.995242214532872\n",
      "Train_roc_auc 0.9960469129731326\n",
      "----------\n",
      "Train_accuracy 0.8222423875781407\n",
      "Train_f1_score 0.491784375900836\n",
      "Train_precision 0.3702256944444444\n",
      "Train_recall 0.7321888412017168\n",
      "Train_roc_auc 0.8380791576548371\n",
      "--------------------\n",
      "\n",
      "\n",
      "CART\n",
      "Train_accuracy 1.0\n",
      "Train_f1_score 1.0\n",
      "Train_precision 1.0\n",
      "Train_recall 1.0\n",
      "Train_roc_auc 1.0\n",
      "----------\n",
      "Train_accuracy 0.8797136519459569\n",
      "Train_f1_score 0.528272044286279\n",
      "Train_precision 0.4897360703812317\n",
      "Train_recall 0.5733905579399141\n",
      "Train_roc_auc 0.7469374816433262\n",
      "--------------------\n",
      "\n",
      "\n",
      "RF\n",
      "Train_accuracy 1.0\n",
      "Train_f1_score 1.0\n",
      "Train_precision 1.0\n",
      "Train_recall 1.0\n",
      "Train_roc_auc 1.0\n",
      "----------\n",
      "Train_accuracy 0.9088525912482356\n",
      "Train_f1_score 0.6143344709897611\n",
      "Train_precision 0.6106870229007634\n",
      "Train_recall 0.6180257510729614\n",
      "Train_roc_auc 0.9237452861042369\n",
      "--------------------\n",
      "\n",
      "\n",
      "SVC\n",
      "Train_accuracy 0.808983666061706\n",
      "Train_f1_score 0.5110967741935484\n",
      "Train_precision 0.36419639573372564\n",
      "Train_recall 0.8566176470588235\n",
      "Train_roc_auc 0.9003835459170576\n",
      "----------\n",
      "Train_accuracy 0.8095382133494656\n",
      "Train_f1_score 0.5069172539806839\n",
      "Train_precision 0.3642160540135034\n",
      "Train_recall 0.8334763948497854\n",
      "Train_roc_auc 0.886110218985618\n",
      "--------------------\n",
      "\n",
      "\n"
     ]
    },
    {
     "name": "stderr",
     "output_type": "stream",
     "text": [
      "/opt/conda/lib/python3.7/site-packages/xgboost/sklearn.py:1224: UserWarning: The use of label encoder in XGBClassifier is deprecated and will be removed in a future release. To remove this warning, do the following: 1) Pass option use_label_encoder=False when constructing XGBClassifier object; and 2) Encode your labels (y) as integers starting with 0, i.e. 0, 1, 2, ..., [num_class - 1].\n",
      "  warnings.warn(label_encoder_deprecation_msg, UserWarning)\n"
     ]
    },
    {
     "name": "stdout",
     "output_type": "stream",
     "text": [
      "[09:50:47] WARNING: ../src/learner.cc:1115: Starting in XGBoost 1.3.0, the default evaluation metric used with the objective 'binary:logistic' was changed from 'error' to 'logloss'. Explicitly set eval_metric if you'd like to restore the old behavior.\n",
      "xg\n",
      "Train_accuracy 0.934916313772938\n",
      "Train_f1_score 0.7107974910394265\n",
      "Train_precision 0.7372211895910781\n",
      "Train_recall 0.6862024221453287\n",
      "Train_roc_auc 0.9583742549269059\n",
      "----------\n",
      "Train_accuracy 0.901290582778786\n",
      "Train_f1_score 0.5623603039785426\n",
      "Train_precision 0.5867537313432836\n",
      "Train_recall 0.5399141630901287\n",
      "Train_roc_auc 0.9135956819709639\n",
      "--------------------\n",
      "\n",
      "\n"
     ]
    }
   ],
   "source": [
    "for model in models:\n",
    "    steps = list()\n",
    "    steps.append((\"Encoder\" , Encoder  ))\n",
    "    steps.append((\"Scaler\" , RobustScaler()  ))\n",
    "    steps.append(('smote',SMOTE()  ))\n",
    "    steps.append(model)\n",
    "    pipeline = imbPipeline(steps = steps)\n",
    "    scores = cross_validate(pipeline , x , y , scoring=[\"accuracy\",\"f1\",\"precision\",\"recall\",'roc_auc']  ,cv = pds , return_train_score=True)\n",
    "    print(model[0])\n",
    "    print(\"Train_accuracy\" , scores[\"train_accuracy\"].mean() )\n",
    "    print(\"Train_f1_score\" , scores[\"train_f1\"].mean() )\n",
    "    print(\"Train_precision\" , scores[\"train_precision\"].mean() )\n",
    "    print(\"Train_recall\" , scores[\"train_recall\"].mean() )\n",
    "    print(\"Train_roc_auc\" , scores[\"train_roc_auc\"].mean() )\n",
    "    print(\"-\" * 10)\n",
    "    print(\"Train_accuracy\" , scores[\"test_accuracy\"].mean() )\n",
    "    print(\"Train_f1_score\" , scores[\"test_f1\"].mean() )\n",
    "    print(\"Train_precision\" , scores[\"test_precision\"].mean() )\n",
    "    print(\"Train_recall\" , scores[\"test_recall\"].mean() )\n",
    "    print(\"Train_roc_auc\" , scores[\"test_roc_auc\"].mean() )\n",
    "    print(\"-\" * 20)\n",
    "    print(\"\\n\")"
   ]
  },
  {
   "cell_type": "code",
   "execution_count": 431,
   "metadata": {
    "execution": {
     "iopub.execute_input": "2023-03-14T10:23:09.736913Z",
     "iopub.status.busy": "2023-03-14T10:23:09.736014Z",
     "iopub.status.idle": "2023-03-14T10:23:09.741602Z",
     "shell.execute_reply": "2023-03-14T10:23:09.740426Z",
     "shell.execute_reply.started": "2023-03-14T10:23:09.736870Z"
    }
   },
   "outputs": [],
   "source": [
    "from sklearn.model_selection import GridSearchCV"
   ]
  },
  {
   "cell_type": "code",
   "execution_count": 440,
   "metadata": {
    "execution": {
     "iopub.execute_input": "2023-03-14T10:31:00.505108Z",
     "iopub.status.busy": "2023-03-14T10:31:00.504815Z",
     "iopub.status.idle": "2023-03-14T10:31:00.511427Z",
     "shell.execute_reply": "2023-03-14T10:31:00.510287Z",
     "shell.execute_reply.started": "2023-03-14T10:31:00.505076Z"
    }
   },
   "outputs": [],
   "source": [
    "params = [\n",
    "        {'Model__criterion':['gini', 'entropy'], 'Model__n_estimators': [100, 110, 120 , 130] }\n",
    "         ]\n",
    "\n",
    "XGB_params =     {'Model__max_depth':[8,12,16,18,20],\n",
    "    'Model__n_estimators': [100, 200,300, 400,500,600],\n",
    "    'Model__learning_rate': [0.1, 0.01, 0.05]}\n",
    "\n",
    "\n",
    "random_grid = {\n",
    "    'Model__bootstrap': [True, False],\n",
    "    'Model__max_features': ['auto', 'sqrt'],\n",
    "    'Model__n_estimators': [100,200, 400, 600],  \n",
    "     'Model__min_samples_leaf': [1, 2, 4],\n",
    "     'Model__min_samples_split': [2, 5, 10],\n",
    "    'Model__max_depth':[10,20,30]\n",
    "\n",
    "} "
   ]
  },
  {
   "cell_type": "code",
   "execution_count": 443,
   "metadata": {
    "execution": {
     "iopub.execute_input": "2023-03-14T11:52:55.412782Z",
     "iopub.status.busy": "2023-03-14T11:52:55.412443Z",
     "iopub.status.idle": "2023-03-14T11:52:55.418967Z",
     "shell.execute_reply": "2023-03-14T11:52:55.418258Z",
     "shell.execute_reply.started": "2023-03-14T11:52:55.412744Z"
    }
   },
   "outputs": [],
   "source": [
    "steps = list()\n",
    "steps.append((\"Encoder\" , Encoder))\n",
    "steps.append((\"Scaler\" , RobustScaler()))\n",
    "steps.append(('smote',SMOTE()  ))\n",
    "steps.append((\"Model\" , RandomForestClassifier()))\n",
    "pipeline = imbPipeline(steps = steps)"
   ]
  },
  {
   "cell_type": "code",
   "execution_count": 446,
   "metadata": {
    "execution": {
     "iopub.execute_input": "2023-03-14T11:53:29.988703Z",
     "iopub.status.busy": "2023-03-14T11:53:29.988375Z",
     "iopub.status.idle": "2023-03-14T11:53:29.993932Z",
     "shell.execute_reply": "2023-03-14T11:53:29.993245Z",
     "shell.execute_reply.started": "2023-03-14T11:53:29.988663Z"
    }
   },
   "outputs": [],
   "source": []
  },
  {
   "cell_type": "code",
   "execution_count": 447,
   "metadata": {
    "execution": {
     "iopub.execute_input": "2023-03-14T11:53:38.130350Z",
     "iopub.status.busy": "2023-03-14T11:53:38.129503Z",
     "iopub.status.idle": "2023-03-14T13:56:40.135383Z",
     "shell.execute_reply": "2023-03-14T13:56:40.134339Z",
     "shell.execute_reply.started": "2023-03-14T11:53:38.130291Z"
    }
   },
   "outputs": [
    {
     "name": "stderr",
     "output_type": "stream",
     "text": [
      "/opt/conda/lib/python3.7/site-packages/joblib/externals/loky/process_executor.py:691: UserWarning: A worker stopped while some jobs were given to the executor. This can be caused by a too short worker timeout or by a memory leak.\n",
      "  \"timeout or by a memory leak.\", UserWarning\n"
     ]
    },
    {
     "data": {
      "text/plain": [
       "GridSearchCV(cv=PredefinedSplit(test_fold=array([-1, -1, ..., -1, -1])),\n",
       "             estimator=Pipeline(steps=[('Encoder',\n",
       "                                        ColumnTransformer(remainder='passthrough',\n",
       "                                                          transformers=[('OHE',\n",
       "                                                                         OneHotEncoder(drop='first',\n",
       "                                                                                       sparse=False),\n",
       "                                                                         ['marital',\n",
       "                                                                          'contact',\n",
       "                                                                          'job'])])),\n",
       "                                       ('Scaler', RobustScaler()),\n",
       "                                       ('smote', SMOTE()),\n",
       "                                       ('Model', RandomForestClassifier())]),\n",
       "             n_jobs=-1,\n",
       "             param_grid={'Model__bootstrap': [True, False],\n",
       "                         'Model__max_depth': [10, 20, 30],\n",
       "                         'Model__max_features': ['auto', 'sqrt'],\n",
       "                         'Model__min_samples_leaf': [1, 2, 4],\n",
       "                         'Model__min_samples_split': [2, 5, 10],\n",
       "                         'Model__n_estimators': [100, 200, 400, 600]},\n",
       "             return_train_score=True, scoring='accuracy')"
      ]
     },
     "execution_count": 447,
     "metadata": {},
     "output_type": "execute_result"
    }
   ],
   "source": [
    "grid_search = GridSearchCV(estimator=pipeline,\n",
    "                           param_grid=random_grid,\n",
    "                           scoring='accuracy',\n",
    "                           cv = pds,return_train_score=True, n_jobs=-1)\n",
    "grid_search.fit(x, y)"
   ]
  },
  {
   "cell_type": "code",
   "execution_count": 448,
   "metadata": {
    "execution": {
     "iopub.execute_input": "2023-03-14T13:56:40.137907Z",
     "iopub.status.busy": "2023-03-14T13:56:40.137548Z",
     "iopub.status.idle": "2023-03-14T13:56:40.146403Z",
     "shell.execute_reply": "2023-03-14T13:56:40.145337Z",
     "shell.execute_reply.started": "2023-03-14T13:56:40.137849Z"
    }
   },
   "outputs": [
    {
     "data": {
      "text/plain": [
       "0.8836120540282166"
      ]
     },
     "execution_count": 448,
     "metadata": {},
     "output_type": "execute_result"
    }
   ],
   "source": [
    "grid_search.cv_results_[\"mean_test_score\"].mean()"
   ]
  },
  {
   "cell_type": "code",
   "execution_count": 449,
   "metadata": {
    "execution": {
     "iopub.execute_input": "2023-03-14T13:56:40.147968Z",
     "iopub.status.busy": "2023-03-14T13:56:40.147654Z",
     "iopub.status.idle": "2023-03-14T13:56:40.159527Z",
     "shell.execute_reply": "2023-03-14T13:56:40.158534Z",
     "shell.execute_reply.started": "2023-03-14T13:56:40.147927Z"
    }
   },
   "outputs": [
    {
     "data": {
      "text/plain": [
       "0.9312262753654037"
      ]
     },
     "execution_count": 449,
     "metadata": {},
     "output_type": "execute_result"
    }
   ],
   "source": [
    "grid_search.cv_results_[\"mean_train_score\"].mean()"
   ]
  },
  {
   "cell_type": "code",
   "execution_count": null,
   "metadata": {},
   "outputs": [],
   "source": []
  },
  {
   "cell_type": "code",
   "execution_count": null,
   "metadata": {},
   "outputs": [],
   "source": []
  },
  {
   "cell_type": "code",
   "execution_count": null,
   "metadata": {},
   "outputs": [],
   "source": []
  },
  {
   "cell_type": "code",
   "execution_count": null,
   "metadata": {},
   "outputs": [],
   "source": []
  },
  {
   "cell_type": "code",
   "execution_count": null,
   "metadata": {},
   "outputs": [],
   "source": []
  }
 ],
 "metadata": {
  "kernelspec": {
   "display_name": "Python 3",
   "language": "python",
   "name": "python3"
  },
  "language_info": {
   "codemirror_mode": {
    "name": "ipython",
    "version": 3
   },
   "file_extension": ".py",
   "mimetype": "text/x-python",
   "name": "python",
   "nbconvert_exporter": "python",
   "pygments_lexer": "ipython3",
   "version": "3.7.6"
  }
 },
 "nbformat": 4,
 "nbformat_minor": 4
}
